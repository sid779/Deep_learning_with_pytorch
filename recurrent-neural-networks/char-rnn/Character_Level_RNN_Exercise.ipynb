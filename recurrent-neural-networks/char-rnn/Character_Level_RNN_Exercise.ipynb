{
  "nbformat": 4,
  "nbformat_minor": 0,
  "metadata": {
    "colab": {
      "name": "Character_Level_RNN_Exercise.ipynb",
      "version": "0.3.2",
      "provenance": [],
      "toc_visible": true
    },
    "kernelspec": {
      "name": "python3",
      "display_name": "Python 3"
    },
    "accelerator": "GPU"
  },
  "cells": [
    {
      "metadata": {
        "id": "Tcoy3OG-woRy",
        "colab_type": "text"
      },
      "cell_type": "markdown",
      "source": [
        "# Character-Level LSTM in PyTorch\n",
        "\n",
        "In this notebook, I'll construct a character-level LSTM with PyTorch. The network will train character by character on some text, then generate new text character by character. As an example, I will train on Anna Karenina. **This model will be able to generate new text based on the text from the book!**\n",
        "\n",
        "This network is based off of Andrej Karpathy's [post on RNNs](http://karpathy.github.io/2015/05/21/rnn-effectiveness/) and [implementation in Torch](https://github.com/karpathy/char-rnn). Below is the general architecture of the character-wise RNN.\n",
        "\n",
        "<img src=\"https://github.com/sid779/Deep_learning_with_pytorch/blob/master/recurrent-neural-networks/char-rnn/assets/charseq.jpeg?raw=1\" width=\"500\">"
      ]
    },
    {
      "metadata": {
        "id": "pEJjWcuIwoR3",
        "colab_type": "text"
      },
      "cell_type": "markdown",
      "source": [
        "First let's load in our required resources for data loading and model creation."
      ]
    },
    {
      "metadata": {
        "id": "CStFz368yX6D",
        "colab_type": "code",
        "colab": {
          "base_uri": "https://localhost:8080/",
          "height": 54
        },
        "outputId": "48a8c649-ec52-42f3-ae28-7c8ad1a0a06f"
      },
      "cell_type": "code",
      "source": [
        "# http://pytorch.org/\n",
        "from os.path import exists\n",
        "from wheel.pep425tags import get_abbr_impl, get_impl_ver, get_abi_tag\n",
        "platform = '{}{}-{}'.format(get_abbr_impl(), get_impl_ver(), get_abi_tag())\n",
        "cuda_output = !ldconfig -p|grep cudart.so|sed -e 's/.*\\.\\([0-9]*\\)\\.\\([0-9]*\\)$/cu\\1\\2/'\n",
        "accelerator = cuda_output[0] if exists('/dev/nvidia0') else 'cpu'\n",
        "\n",
        "!pip install -q http://download.pytorch.org/whl/{accelerator}/torch-0.4.1-{platform}-linux_x86_64.whl torchvision\n",
        "import torch"
      ],
      "execution_count": 6,
      "outputs": [
        {
          "output_type": "stream",
          "text": [
            "tcmalloc: large alloc 1073750016 bytes == 0x57ef8000 @  0x7f1a342af2a4 0x591a07 0x5b5d56 0x502e9a 0x506859 0x502209 0x502f3d 0x506859 0x504c28 0x502540 0x502f3d 0x506859 0x504c28 0x502540 0x502f3d 0x506859 0x504c28 0x502540 0x502f3d 0x507641 0x502209 0x502f3d 0x506859 0x504c28 0x502540 0x502f3d 0x507641 0x504c28 0x502540 0x502f3d 0x507641\n"
          ],
          "name": "stdout"
        }
      ]
    },
    {
      "metadata": {
        "id": "6cfreVW4woR5",
        "colab_type": "code",
        "colab": {}
      },
      "cell_type": "code",
      "source": [
        "import numpy as np\n",
        "import torch\n",
        "from torch import nn\n",
        "import torch.nn.functional as F"
      ],
      "execution_count": 0,
      "outputs": []
    },
    {
      "metadata": {
        "id": "R16eENoBwoR-",
        "colab_type": "text"
      },
      "cell_type": "markdown",
      "source": [
        "## Load in Data\n",
        "\n",
        "Then, we'll load the Anna Karenina text file and convert it into integers for our network to use. "
      ]
    },
    {
      "metadata": {
        "id": "l9bwXUdLwoSA",
        "colab_type": "code",
        "colab": {}
      },
      "cell_type": "code",
      "source": [
        "# open text file and read in data as `text`\n",
        "with open('anna.txt', 'r') as f:\n",
        "    text = f.read()"
      ],
      "execution_count": 0,
      "outputs": []
    },
    {
      "metadata": {
        "id": "-ICVkfFTwoSE",
        "colab_type": "text"
      },
      "cell_type": "markdown",
      "source": [
        "Let's check out the first 100 characters, make sure everything is peachy. According to the [American Book Review](http://americanbookreview.org/100bestlines.asp), this is the 6th best first line of a book ever."
      ]
    },
    {
      "metadata": {
        "id": "56U9OZwewoSF",
        "colab_type": "code",
        "colab": {
          "base_uri": "https://localhost:8080/",
          "height": 54
        },
        "outputId": "2f189450-b751-4e4e-e861-0ab41c8c99a5"
      },
      "cell_type": "code",
      "source": [
        "text[:100]"
      ],
      "execution_count": 9,
      "outputs": [
        {
          "output_type": "execute_result",
          "data": {
            "text/plain": [
              "'Chapter 1\\n\\n\\nHappy families are all alike; every unhappy family is unhappy in its own\\nway.\\n\\nEverythin'"
            ]
          },
          "metadata": {
            "tags": []
          },
          "execution_count": 9
        }
      ]
    },
    {
      "metadata": {
        "id": "boNifs5RwoSK",
        "colab_type": "text"
      },
      "cell_type": "markdown",
      "source": [
        "### Tokenization\n",
        "\n",
        "In the cells, below, I'm creating a couple **dictionaries** to convert the characters to and from integers. Encoding the characters as integers makes it easier to use as input in the network."
      ]
    },
    {
      "metadata": {
        "id": "qZ8F5Vf4woSK",
        "colab_type": "code",
        "colab": {}
      },
      "cell_type": "code",
      "source": [
        "# encode the text and map each character to an integer and vice versa\n",
        "\n",
        "# we create two dictionaries:\n",
        "# 1. int2char, which maps integers to characters\n",
        "# 2. char2int, which maps characters to unique integers\n",
        "chars = tuple(set(text))\n",
        "int2char = dict(enumerate(chars))\n",
        "char2int = {ch: ii for ii, ch in int2char.items()}\n",
        "\n",
        "# encode the text\n",
        "encoded = np.array([char2int[ch] for ch in text])"
      ],
      "execution_count": 0,
      "outputs": []
    },
    {
      "metadata": {
        "id": "WsauS0z1woSO",
        "colab_type": "text"
      },
      "cell_type": "markdown",
      "source": [
        "And we can see those same characters from above, encoded as integers."
      ]
    },
    {
      "metadata": {
        "id": "vO4E2rwIwoSP",
        "colab_type": "code",
        "colab": {
          "base_uri": "https://localhost:8080/",
          "height": 118
        },
        "outputId": "39efe7bb-b5ee-418b-bb8a-2150c50a4201"
      },
      "cell_type": "code",
      "source": [
        "encoded[:100]"
      ],
      "execution_count": 11,
      "outputs": [
        {
          "output_type": "execute_result",
          "data": {
            "text/plain": [
              "array([69, 62, 75, 37, 73, 12,  7, 35, 44, 59, 59, 59,  9, 75, 37, 37, 23,\n",
              "       35, 77, 75, 10, 27, 20, 27, 12, 28, 35, 75,  7, 12, 35, 75, 20, 20,\n",
              "       35, 75, 20, 27, 33, 12, 36, 35, 12, 41, 12,  7, 23, 35, 78, 21, 62,\n",
              "       75, 37, 37, 23, 35, 77, 75, 10, 27, 20, 23, 35, 27, 28, 35, 78, 21,\n",
              "       62, 75, 37, 37, 23, 35, 27, 21, 35, 27, 73, 28, 35, 14,  8, 21, 59,\n",
              "        8, 75, 23,  3, 59, 59, 22, 41, 12,  7, 23, 73, 62, 27, 21])"
            ]
          },
          "metadata": {
            "tags": []
          },
          "execution_count": 11
        }
      ]
    },
    {
      "metadata": {
        "id": "HXvcMKk-woSU",
        "colab_type": "text"
      },
      "cell_type": "markdown",
      "source": [
        "## Pre-processing the data\n",
        "\n",
        "As you can see in our char-RNN image above, our LSTM expects an input that is **one-hot encoded** meaning that each character is converted into an integer (via our created dictionary) and *then* converted into a column vector where only it's corresponding integer index will have the value of 1 and the rest of the vector will be filled with 0's. Since we're one-hot encoding the data, let's make a function to do that!\n"
      ]
    },
    {
      "metadata": {
        "id": "VlbGuYuUwoSV",
        "colab_type": "code",
        "colab": {}
      },
      "cell_type": "code",
      "source": [
        "def one_hot_encode(arr, n_labels):\n",
        "    \n",
        "    # Initialize the the encoded array\n",
        "    one_hot = np.zeros((np.multiply(*arr.shape), n_labels), dtype=np.float32)\n",
        "    \n",
        "    # Fill the appropriate elements with ones\n",
        "    one_hot[np.arange(one_hot.shape[0]), arr.flatten()] = 1.\n",
        "    \n",
        "    # Finally reshape it to get back to the original array\n",
        "    one_hot = one_hot.reshape((*arr.shape, n_labels))\n",
        "    \n",
        "    return one_hot"
      ],
      "execution_count": 0,
      "outputs": []
    },
    {
      "metadata": {
        "id": "Lr7UNelEwoSa",
        "colab_type": "code",
        "colab": {
          "base_uri": "https://localhost:8080/",
          "height": 67
        },
        "outputId": "c6932d61-753d-48f6-aadb-c6a76206988c"
      },
      "cell_type": "code",
      "source": [
        "# check that the function works as expected\n",
        "test_seq = np.array([[3, 5, 1]])\n",
        "one_hot = one_hot_encode(test_seq, 8)\n",
        "\n",
        "print(one_hot)"
      ],
      "execution_count": 13,
      "outputs": [
        {
          "output_type": "stream",
          "text": [
            "[[[0. 0. 0. 1. 0. 0. 0. 0.]\n",
            "  [0. 0. 0. 0. 0. 1. 0. 0.]\n",
            "  [0. 1. 0. 0. 0. 0. 0. 0.]]]\n"
          ],
          "name": "stdout"
        }
      ]
    },
    {
      "metadata": {
        "id": "lJDETBf0woSf",
        "colab_type": "text"
      },
      "cell_type": "markdown",
      "source": [
        "## Making training mini-batches\n",
        "\n",
        "\n",
        "To train on this data, we also want to create mini-batches for training. Remember that we want our batches to be multiple sequences of some desired number of sequence steps. Considering a simple example, our batches would look like this:\n",
        "\n",
        "<img src=\"https://github.com/sid779/Deep_learning_with_pytorch/blob/master/recurrent-neural-networks/char-rnn/assets/sequence_batching@1x.png?raw=1\" width=500px>\n",
        "\n",
        "\n",
        "<br>\n",
        "\n",
        "In this example, we'll take the encoded characters (passed in as the `arr` parameter) and split them into multiple sequences, given by `batch_size`. Each of our sequences will be `seq_length` long.\n",
        "\n",
        "### Creating Batches\n",
        "\n",
        "**1. The first thing we need to do is discard some of the text so we only have completely full mini-batches. **\n",
        "\n",
        "Each batch contains $N \\times M$ characters, where $N$ is the batch size (the number of sequences in a batch) and $M$ is the seq_length or number of time steps in a sequence. Then, to get the total number of batches, $K$, that we can make from the array `arr`, you divide the length of `arr` by the number of characters per batch. Once you know the number of batches, you can get the total number of characters to keep from `arr`, $N * M * K$.\n",
        "\n",
        "**2. After that, we need to split `arr` into $N$ batches. ** \n",
        "\n",
        "You can do this using `arr.reshape(size)` where `size` is a tuple containing the dimensions sizes of the reshaped array. We know we want $N$ sequences in a batch, so let's make that the size of the first dimension. For the second dimension, you can use `-1` as a placeholder in the size, it'll fill up the array with the appropriate data for you. After this, you should have an array that is $N \\times (M * K)$.\n",
        "\n",
        "**3. Now that we have this array, we can iterate through it to get our mini-batches. **\n",
        "\n",
        "The idea is each batch is a $N \\times M$ window on the $N \\times (M * K)$ array. For each subsequent batch, the window moves over by `seq_length`. We also want to create both the input and target arrays. Remember that the targets are just the inputs shifted over by one character. The way I like to do this window is use `range` to take steps of size `n_steps` from $0$ to `arr.shape[1]`, the total number of tokens in each sequence. That way, the integers you get from `range` always point to the start of a batch, and each window is `seq_length` wide.\n",
        "\n",
        "> **TODO:** Write the code for creating batches in the function below. The exercises in this notebook _will not be easy_. I've provided a notebook with solutions alongside this notebook. If you get stuck, checkout the solutions. The most important thing is that you don't copy and paste the code into here, **type out the solution code yourself.**"
      ]
    },
    {
      "metadata": {
        "id": "8UHflMfvwoSg",
        "colab_type": "code",
        "colab": {}
      },
      "cell_type": "code",
      "source": [
        "def get_batches(arr, batch_size, seq_length):\n",
        "    '''Create a generator that returns batches of size\n",
        "       batch_size x seq_length from arr.\n",
        "       \n",
        "       Arguments\n",
        "       ---------\n",
        "       arr: Array you want to make batches from\n",
        "       batch_size: Batch size, the number of sequences per batch\n",
        "       seq_length: Number of encoded chars in a sequence\n",
        "    '''\n",
        "    batch_size_total=batch_size*seq_length\n",
        "    ## TODO: Get the number of batches we can make\n",
        "    n_batches = len(arr)//batch_size_total\n",
        "    \n",
        "    ## TODO: Keep only enough characters to make full batches\n",
        "    arr = arr[:n_batches*batch_size_total]\n",
        "    \n",
        "    ## TODO: Reshape into batch_size rows\n",
        "    arr = arr.reshape(batch_size,-1)\n",
        "    \n",
        "    ## TODO: Iterate over the batches using a window of size seq_length\n",
        "    for n in range(0, arr.shape[1], seq_length):\n",
        "        # The features\n",
        "        x = arr[:, n:n+seq_length]\n",
        "        # The targets, shifted by one\n",
        "        y = np.zeros_like(x)\n",
        "        try:\n",
        "            y[:, :-1], y[:, -1] = x[:, 1:], arr[:, n+seq_length]\n",
        "        except IndexError:\n",
        "            y[:, :-1], y[:, -1] = x[:, 1:], arr[:, 0]\n",
        "        yield x, y"
      ],
      "execution_count": 0,
      "outputs": []
    },
    {
      "metadata": {
        "id": "CCws84BQwoSk",
        "colab_type": "text"
      },
      "cell_type": "markdown",
      "source": [
        "### Test Your Implementation\n",
        "\n",
        "Now I'll make some data sets and we can check out what's going on as we batch data. Here, as an example, I'm going to use a batch size of 8 and 50 sequence steps."
      ]
    },
    {
      "metadata": {
        "id": "we61zL-6woSl",
        "colab_type": "code",
        "colab": {}
      },
      "cell_type": "code",
      "source": [
        "batches = get_batches(encoded, 8, 50)\n",
        "x, y = next(batches)"
      ],
      "execution_count": 0,
      "outputs": []
    },
    {
      "metadata": {
        "id": "Q5SDqMlOwoSp",
        "colab_type": "code",
        "colab": {
          "base_uri": "https://localhost:8080/",
          "height": 336
        },
        "outputId": "30833cf2-9a65-4f41-f103-fdbb770ad55e"
      },
      "cell_type": "code",
      "source": [
        "# printing out the first 10 items in a sequence\n",
        "print('x\\n', x[:10, :10])\n",
        "print('\\ny\\n', y[:10, :10])"
      ],
      "execution_count": 16,
      "outputs": [
        {
          "output_type": "stream",
          "text": [
            "x\n",
            " [[69 62 75 37 73 12  7 35 44 59]\n",
            " [28 14 21 35 73 62 75 73 35 75]\n",
            " [12 21 58 35 14  7 35 75 35 77]\n",
            " [28 35 73 62 12 35 18 62 27 12]\n",
            " [35 28 75  8 35 62 12  7 35 73]\n",
            " [18 78 28 28 27 14 21 35 75 21]\n",
            " [35 51 21 21 75 35 62 75 58 35]\n",
            " [76 79 20 14 21 28 33 23  3 35]]\n",
            "\n",
            "y\n",
            " [[62 75 37 73 12  7 35 44 59 59]\n",
            " [14 21 35 73 62 75 73 35 75 73]\n",
            " [21 58 35 14  7 35 75 35 77 14]\n",
            " [35 73 62 12 35 18 62 27 12 77]\n",
            " [28 75  8 35 62 12  7 35 73 12]\n",
            " [78 28 28 27 14 21 35 75 21 58]\n",
            " [51 21 21 75 35 62 75 58 35 28]\n",
            " [79 20 14 21 28 33 23  3 35 48]]\n"
          ],
          "name": "stdout"
        }
      ]
    },
    {
      "metadata": {
        "id": "VRGWEEWtwoSs",
        "colab_type": "text"
      },
      "cell_type": "markdown",
      "source": [
        "If you implemented `get_batches` correctly, the above output should look something like \n",
        "```\n",
        "x\n",
        " [[25  8 60 11 45 27 28 73  1  2]\n",
        " [17  7 20 73 45  8 60 45 73 60]\n",
        " [27 20 80 73  7 28 73 60 73 65]\n",
        " [17 73 45  8 27 73 66  8 46 27]\n",
        " [73 17 60 12 73  8 27 28 73 45]\n",
        " [66 64 17 17 46  7 20 73 60 20]\n",
        " [73 76 20 20 60 73  8 60 80 73]\n",
        " [47 35 43  7 20 17 24 50 37 73]]\n",
        "\n",
        "y\n",
        " [[ 8 60 11 45 27 28 73  1  2  2]\n",
        " [ 7 20 73 45  8 60 45 73 60 45]\n",
        " [20 80 73  7 28 73 60 73 65  7]\n",
        " [73 45  8 27 73 66  8 46 27 65]\n",
        " [17 60 12 73  8 27 28 73 45 27]\n",
        " [64 17 17 46  7 20 73 60 20 80]\n",
        " [76 20 20 60 73  8 60 80 73 17]\n",
        " [35 43  7 20 17 24 50 37 73 36]]\n",
        " ```\n",
        " although the exact numbers may be different. Check to make sure the data is shifted over one step for `y`."
      ]
    },
    {
      "metadata": {
        "id": "uPB-jCudwoSt",
        "colab_type": "text"
      },
      "cell_type": "markdown",
      "source": [
        "---\n",
        "## Defining the network with PyTorch\n",
        "\n",
        "Below is where you'll define the network.\n",
        "\n",
        "<img src=\"https://github.com/sid779/Deep_learning_with_pytorch/blob/master/recurrent-neural-networks/char-rnn/assets/charRNN.png?raw=1\" width=500px>\n",
        "\n",
        "Next, you'll use PyTorch to define the architecture of the network. We start by defining the layers and operations we want. Then, define a method for the forward pass. You've also been given a method for predicting characters."
      ]
    },
    {
      "metadata": {
        "id": "qdKu1_ULwoSv",
        "colab_type": "text"
      },
      "cell_type": "markdown",
      "source": [
        "### Model Structure\n",
        "\n",
        "In `__init__` the suggested structure is as follows:\n",
        "* Create and store the necessary dictionaries (this has been done for you)\n",
        "* Define an LSTM layer that takes as params: an input size (the number of characters), a hidden layer size `n_hidden`, a number of layers `n_layers`, a dropout probability `drop_prob`, and a batch_first boolean (True, since we are batching)\n",
        "* Define a dropout layer with `dropout_prob`\n",
        "* Define a fully-connected layer with params: input size `n_hidden` and output size (the number of characters)\n",
        "* Finally, initialize the weights (again, this has been given)\n",
        "\n",
        "Note that some parameters have been named and given in the `__init__` function, and we use them and store them by doing something like `self.drop_prob = drop_prob`."
      ]
    },
    {
      "metadata": {
        "id": "97nS4-OJwoSw",
        "colab_type": "text"
      },
      "cell_type": "markdown",
      "source": [
        "---\n",
        "### LSTM Inputs/Outputs\n",
        "\n",
        "You can create a basic [LSTM layer](https://pytorch.org/docs/stable/nn.html#lstm) as follows\n",
        "\n",
        "```python\n",
        "self.lstm = nn.LSTM(input_size, n_hidden, n_layers, \n",
        "                            dropout=drop_prob, batch_first=True)\n",
        "```\n",
        "\n",
        "where `input_size` is the number of characters this cell expects to see as sequential input, and `n_hidden` is the number of units in the hidden layers in the cell. And we can add dropout by adding a dropout parameter with a specified probability; this will automatically add dropout to the inputs or outputs. Finally, in the `forward` function, we can stack up the LSTM cells into layers using `.view`. With this, you pass in a list of cells and it will send the output of one cell into the next cell.\n",
        "\n",
        "We also need to create an initial hidden state of all zeros. This is done like so\n",
        "\n",
        "```python\n",
        "self.init_hidden()\n",
        "```"
      ]
    },
    {
      "metadata": {
        "id": "Xe7y24FGwoSx",
        "colab_type": "code",
        "colab": {
          "base_uri": "https://localhost:8080/",
          "height": 34
        },
        "outputId": "5fc5a11b-ff4d-43ad-c512-435aa65e1a10"
      },
      "cell_type": "code",
      "source": [
        "# check if GPU is available\n",
        "train_on_gpu = torch.cuda.is_available()\n",
        "if(train_on_gpu):\n",
        "    print('Training on GPU!')\n",
        "else: \n",
        "    print('No GPU available, training on CPU; consider making n_epochs very small.')"
      ],
      "execution_count": 17,
      "outputs": [
        {
          "output_type": "stream",
          "text": [
            "Training on GPU!\n"
          ],
          "name": "stdout"
        }
      ]
    },
    {
      "metadata": {
        "id": "HaUqR6klwoS1",
        "colab_type": "code",
        "colab": {}
      },
      "cell_type": "code",
      "source": [
        "class CharRNN(nn.Module):\n",
        "    \n",
        "    def __init__(self, tokens, n_hidden=256, n_layers=2,\n",
        "                               drop_prob=0.5, lr=0.001):\n",
        "        super().__init__()\n",
        "        self.drop_prob = drop_prob\n",
        "        self.n_layers = n_layers\n",
        "        self.n_hidden = n_hidden\n",
        "        self.lr = lr\n",
        "        \n",
        "        # creating character dictionaries\n",
        "        self.chars = tokens\n",
        "        self.int2char = dict(enumerate(self.chars))\n",
        "        self.char2int = {ch: ii for ii, ch in self.int2char.items()}\n",
        "        \n",
        "        ## TODO: define the layers of the model\n",
        "        self.lstm = nn.LSTM(len(self.chars), n_hidden, n_layers, \n",
        "                            dropout=drop_prob, batch_first=True)\n",
        "        \n",
        "        self.dropout=nn.Dropout(drop_prob)\n",
        "        self.fc=nn.Linear(n_hidden, len(self.chars))\n",
        "      \n",
        "    \n",
        "    def forward(self, x, hidden):\n",
        "        ''' Forward pass through the network. \n",
        "            These inputs are x, and the hidden/cell state `hidden`. '''\n",
        "                \n",
        "        ## TODO: Get the outputs and the new hidden state from the lstm\n",
        "        r_output, hidden = self.lstm(x, hidden)\n",
        "        \n",
        "        ## TODO: pass through a dropout layer\n",
        "        out = self.dropout(r_output)\n",
        "        \n",
        "        # Stack up LSTM outputs using view\n",
        "        # you may need to use contiguous to reshape the output\n",
        "        out = out.contiguous().view(-1, self.n_hidden)\n",
        "        \n",
        "        ## TODO: put x through the fully-connected layer\n",
        "        out = self.fc(out)\n",
        "        # return the final output and the hidden state\n",
        "        return out, hidden\n",
        "    \n",
        "    \n",
        "    def init_hidden(self, batch_size):\n",
        "        ''' Initializes hidden state '''\n",
        "        # Create two new tensors with sizes n_layers x batch_size x n_hidden,\n",
        "        # initialized to zero, for hidden state and cell state of LSTM\n",
        "        weight = next(self.parameters()).data\n",
        "        \n",
        "        if (train_on_gpu):\n",
        "            hidden = (weight.new(self.n_layers, batch_size, self.n_hidden).zero_().cuda(),\n",
        "                  weight.new(self.n_layers, batch_size, self.n_hidden).zero_().cuda())\n",
        "        else:\n",
        "            hidden = (weight.new(self.n_layers, batch_size, self.n_hidden).zero_(),\n",
        "                      weight.new(self.n_layers, batch_size, self.n_hidden).zero_())\n",
        "        \n",
        "        return hidden\n",
        "        "
      ],
      "execution_count": 0,
      "outputs": []
    },
    {
      "metadata": {
        "id": "QTo2jS1HwoS6",
        "colab_type": "text"
      },
      "cell_type": "markdown",
      "source": [
        "## Time to train\n",
        "\n",
        "The train function gives us the ability to set the number of epochs, the learning rate, and other parameters.\n",
        "\n",
        "Below we're using an Adam optimizer and cross entropy loss since we are looking at character class scores as output. We calculate the loss and perform backpropagation, as usual!\n",
        "\n",
        "A couple of details about training: \n",
        ">* Within the batch loop, we detach the hidden state from its history; this time setting it equal to a new *tuple* variable because an LSTM has a hidden state that is a tuple of the hidden and cell states.\n",
        "* We use [`clip_grad_norm_`](https://pytorch.org/docs/stable/_modules/torch/nn/utils/clip_grad.html) to help prevent exploding gradients."
      ]
    },
    {
      "metadata": {
        "id": "QyDAFl3BwoS7",
        "colab_type": "code",
        "colab": {}
      },
      "cell_type": "code",
      "source": [
        "def train(net, data, epochs=10, batch_size=10, seq_length=50, lr=0.001, clip=5, val_frac=0.1, print_every=10):\n",
        "    ''' Training a network \n",
        "    \n",
        "        Arguments\n",
        "        ---------\n",
        "        \n",
        "        net: CharRNN network\n",
        "        data: text data to train the network\n",
        "        epochs: Number of epochs to train\n",
        "        batch_size: Number of mini-sequences per mini-batch, aka batch size\n",
        "        seq_length: Number of character steps per mini-batch\n",
        "        lr: learning rate\n",
        "        clip: gradient clipping\n",
        "        val_frac: Fraction of data to hold out for validation\n",
        "        print_every: Number of steps for printing training and validation loss\n",
        "    \n",
        "    '''\n",
        "    net.train()\n",
        "    \n",
        "    opt = torch.optim.Adam(net.parameters(), lr=lr)\n",
        "    criterion = nn.CrossEntropyLoss()\n",
        "    \n",
        "    # create training and validation data\n",
        "    val_idx = int(len(data)*(1-val_frac))\n",
        "    data, val_data = data[:val_idx], data[val_idx:]\n",
        "    \n",
        "    if(train_on_gpu):\n",
        "        net.cuda()\n",
        "    \n",
        "    counter = 0\n",
        "    n_chars = len(net.chars)\n",
        "    for e in range(epochs):\n",
        "        # initialize hidden state\n",
        "        h = net.init_hidden(batch_size)\n",
        "        \n",
        "        for x, y in get_batches(data, batch_size, seq_length):\n",
        "            counter += 1\n",
        "            \n",
        "            # One-hot encode our data and make them Torch tensors\n",
        "            x = one_hot_encode(x, n_chars)\n",
        "            inputs, targets = torch.from_numpy(x), torch.from_numpy(y)\n",
        "            \n",
        "            if(train_on_gpu):\n",
        "                inputs, targets = inputs.cuda(), targets.cuda()\n",
        "\n",
        "            # Creating new variables for the hidden state, otherwise\n",
        "            # we'd backprop through the entire training history\n",
        "            h = tuple([each.data for each in h])\n",
        "\n",
        "            # zero accumulated gradients\n",
        "            net.zero_grad()\n",
        "            \n",
        "            # get the output from the model\n",
        "            output, h = net(inputs, h)\n",
        "            \n",
        "            # calculate the loss and perform backprop\n",
        "            loss = criterion(output, targets.view(batch_size*seq_length))\n",
        "            loss.backward()\n",
        "            # `clip_grad_norm` helps prevent the exploding gradient problem in RNNs / LSTMs.\n",
        "            nn.utils.clip_grad_norm_(net.parameters(), clip)\n",
        "            opt.step()\n",
        "            \n",
        "            # loss stats\n",
        "            if counter % print_every == 0:\n",
        "                # Get validation loss\n",
        "                val_h = net.init_hidden(batch_size)\n",
        "                val_losses = []\n",
        "                net.eval()\n",
        "                for x, y in get_batches(val_data, batch_size, seq_length):\n",
        "                    # One-hot encode our data and make them Torch tensors\n",
        "                    x = one_hot_encode(x, n_chars)\n",
        "                    x, y = torch.from_numpy(x), torch.from_numpy(y)\n",
        "                    \n",
        "                    # Creating new variables for the hidden state, otherwise\n",
        "                    # we'd backprop through the entire training history\n",
        "                    val_h = tuple([each.data for each in val_h])\n",
        "                    \n",
        "                    inputs, targets = x, y\n",
        "                    if(train_on_gpu):\n",
        "                        inputs, targets = inputs.cuda(), targets.cuda()\n",
        "\n",
        "                    output, val_h = net(inputs, val_h)\n",
        "                    val_loss = criterion(output, targets.view(batch_size*seq_length))\n",
        "                \n",
        "                    val_losses.append(val_loss.item())\n",
        "                \n",
        "                net.train() # reset to train mode after iterationg through validation data\n",
        "                \n",
        "                print(\"Epoch: {}/{}...\".format(e+1, epochs),\n",
        "                      \"Step: {}...\".format(counter),\n",
        "                      \"Loss: {:.4f}...\".format(loss.item()),\n",
        "                      \"Val Loss: {:.4f}\".format(np.mean(val_losses)))"
      ],
      "execution_count": 0,
      "outputs": []
    },
    {
      "metadata": {
        "id": "W8-3af5hwoTC",
        "colab_type": "text"
      },
      "cell_type": "markdown",
      "source": [
        "## Instantiating the model\n",
        "\n",
        "Now we can actually train the network. First we'll create the network itself, with some given hyperparameters. Then, define the mini-batches sizes, and start training!"
      ]
    },
    {
      "metadata": {
        "id": "lVnpTGeVwoTG",
        "colab_type": "code",
        "colab": {
          "base_uri": "https://localhost:8080/",
          "height": 101
        },
        "outputId": "b52fd7a7-cd7a-4d3c-ee10-f9ab62859603"
      },
      "cell_type": "code",
      "source": [
        "## TODO: set you model hyperparameters\n",
        "# define and print the net\n",
        "n_hidden=512\n",
        "n_layers=2\n",
        "\n",
        "net = CharRNN(chars, n_hidden, n_layers)\n",
        "print(net)"
      ],
      "execution_count": 22,
      "outputs": [
        {
          "output_type": "stream",
          "text": [
            "CharRNN(\n",
            "  (lstm): LSTM(83, 512, num_layers=2, batch_first=True, dropout=0.5)\n",
            "  (dropout): Dropout(p=0.5)\n",
            "  (fc): Linear(in_features=512, out_features=83, bias=True)\n",
            ")\n"
          ],
          "name": "stdout"
        }
      ]
    },
    {
      "metadata": {
        "id": "VvNO2FH4woTN",
        "colab_type": "text"
      },
      "cell_type": "markdown",
      "source": [
        "### Set your training hyperparameters!"
      ]
    },
    {
      "metadata": {
        "scrolled": true,
        "id": "ImcV-LvqwoTN",
        "colab_type": "code",
        "colab": {
          "base_uri": "https://localhost:8080/",
          "height": 4687
        },
        "outputId": "e80f9a29-15fc-4128-964a-ef9b9fd23036"
      },
      "cell_type": "code",
      "source": [
        "batch_size = 128\n",
        "seq_length = 100\n",
        "n_epochs =20  # start small if you are just testing initial behavior\n",
        "\n",
        "# train the model\n",
        "train(net, encoded, epochs=n_epochs, batch_size=batch_size, seq_length=seq_length, lr=0.001, print_every=10)"
      ],
      "execution_count": 24,
      "outputs": [
        {
          "output_type": "stream",
          "text": [
            "Epoch: 1/20... Step: 10... Loss: 3.2445... Val Loss: 3.1907\n",
            "Epoch: 1/20... Step: 20... Loss: 3.1408... Val Loss: 3.1294\n",
            "Epoch: 1/20... Step: 30... Loss: 3.1379... Val Loss: 3.1213\n",
            "Epoch: 1/20... Step: 40... Loss: 3.1097... Val Loss: 3.1179\n",
            "Epoch: 1/20... Step: 50... Loss: 3.1404... Val Loss: 3.1164\n",
            "Epoch: 1/20... Step: 60... Loss: 3.1141... Val Loss: 3.1129\n",
            "Epoch: 1/20... Step: 70... Loss: 3.0992... Val Loss: 3.1080\n",
            "Epoch: 1/20... Step: 80... Loss: 3.1063... Val Loss: 3.0945\n",
            "Epoch: 1/20... Step: 90... Loss: 3.0926... Val Loss: 3.0724\n",
            "Epoch: 1/20... Step: 100... Loss: 3.0232... Val Loss: 2.9984\n",
            "Epoch: 1/20... Step: 110... Loss: 2.9435... Val Loss: 2.9133\n",
            "Epoch: 1/20... Step: 120... Loss: 2.7889... Val Loss: 2.7719\n",
            "Epoch: 1/20... Step: 130... Loss: 2.6964... Val Loss: 2.6590\n",
            "Epoch: 2/20... Step: 140... Loss: 2.6089... Val Loss: 2.5599\n",
            "Epoch: 2/20... Step: 150... Loss: 2.5386... Val Loss: 2.4875\n",
            "Epoch: 2/20... Step: 160... Loss: 2.4956... Val Loss: 2.4602\n",
            "Epoch: 2/20... Step: 170... Loss: 2.4249... Val Loss: 2.4085\n",
            "Epoch: 2/20... Step: 180... Loss: 2.3963... Val Loss: 2.3771\n",
            "Epoch: 2/20... Step: 190... Loss: 2.3451... Val Loss: 2.3471\n",
            "Epoch: 2/20... Step: 200... Loss: 2.3439... Val Loss: 2.3142\n",
            "Epoch: 2/20... Step: 210... Loss: 2.3044... Val Loss: 2.2856\n",
            "Epoch: 2/20... Step: 220... Loss: 2.2633... Val Loss: 2.2529\n",
            "Epoch: 2/20... Step: 230... Loss: 2.2638... Val Loss: 2.2563\n",
            "Epoch: 2/20... Step: 240... Loss: 2.2428... Val Loss: 2.2180\n",
            "Epoch: 2/20... Step: 250... Loss: 2.1814... Val Loss: 2.1879\n",
            "Epoch: 2/20... Step: 260... Loss: 2.1480... Val Loss: 2.1583\n",
            "Epoch: 2/20... Step: 270... Loss: 2.1565... Val Loss: 2.1382\n",
            "Epoch: 3/20... Step: 280... Loss: 2.1603... Val Loss: 2.1158\n",
            "Epoch: 3/20... Step: 290... Loss: 2.1205... Val Loss: 2.0906\n",
            "Epoch: 3/20... Step: 300... Loss: 2.1012... Val Loss: 2.0684\n",
            "Epoch: 3/20... Step: 310... Loss: 2.0670... Val Loss: 2.0523\n",
            "Epoch: 3/20... Step: 320... Loss: 2.0383... Val Loss: 2.0338\n",
            "Epoch: 3/20... Step: 330... Loss: 2.0123... Val Loss: 2.0176\n",
            "Epoch: 3/20... Step: 340... Loss: 2.0403... Val Loss: 1.9965\n",
            "Epoch: 3/20... Step: 350... Loss: 2.0122... Val Loss: 1.9788\n",
            "Epoch: 3/20... Step: 360... Loss: 1.9444... Val Loss: 1.9586\n",
            "Epoch: 3/20... Step: 370... Loss: 1.9722... Val Loss: 1.9436\n",
            "Epoch: 3/20... Step: 380... Loss: 1.9450... Val Loss: 1.9306\n",
            "Epoch: 3/20... Step: 390... Loss: 1.9252... Val Loss: 1.9095\n",
            "Epoch: 3/20... Step: 400... Loss: 1.8844... Val Loss: 1.8973\n",
            "Epoch: 3/20... Step: 410... Loss: 1.9057... Val Loss: 1.8848\n",
            "Epoch: 4/20... Step: 420... Loss: 1.8965... Val Loss: 1.8693\n",
            "Epoch: 4/20... Step: 430... Loss: 1.8919... Val Loss: 1.8537\n",
            "Epoch: 4/20... Step: 440... Loss: 1.8636... Val Loss: 1.8411\n",
            "Epoch: 4/20... Step: 450... Loss: 1.8175... Val Loss: 1.8346\n",
            "Epoch: 4/20... Step: 460... Loss: 1.7989... Val Loss: 1.8206\n",
            "Epoch: 4/20... Step: 470... Loss: 1.8369... Val Loss: 1.8158\n",
            "Epoch: 4/20... Step: 480... Loss: 1.8199... Val Loss: 1.7991\n",
            "Epoch: 4/20... Step: 490... Loss: 1.8185... Val Loss: 1.7858\n",
            "Epoch: 4/20... Step: 500... Loss: 1.8124... Val Loss: 1.7773\n",
            "Epoch: 4/20... Step: 510... Loss: 1.7884... Val Loss: 1.7681\n",
            "Epoch: 4/20... Step: 520... Loss: 1.8028... Val Loss: 1.7589\n",
            "Epoch: 4/20... Step: 530... Loss: 1.7611... Val Loss: 1.7497\n",
            "Epoch: 4/20... Step: 540... Loss: 1.7346... Val Loss: 1.7381\n",
            "Epoch: 4/20... Step: 550... Loss: 1.7795... Val Loss: 1.7304\n",
            "Epoch: 5/20... Step: 560... Loss: 1.7400... Val Loss: 1.7223\n",
            "Epoch: 5/20... Step: 570... Loss: 1.7282... Val Loss: 1.7125\n",
            "Epoch: 5/20... Step: 580... Loss: 1.7076... Val Loss: 1.7031\n",
            "Epoch: 5/20... Step: 590... Loss: 1.7022... Val Loss: 1.6983\n",
            "Epoch: 5/20... Step: 600... Loss: 1.6876... Val Loss: 1.6903\n",
            "Epoch: 5/20... Step: 610... Loss: 1.6808... Val Loss: 1.6836\n",
            "Epoch: 5/20... Step: 620... Loss: 1.6961... Val Loss: 1.6777\n",
            "Epoch: 5/20... Step: 630... Loss: 1.7039... Val Loss: 1.6690\n",
            "Epoch: 5/20... Step: 640... Loss: 1.6665... Val Loss: 1.6622\n",
            "Epoch: 5/20... Step: 650... Loss: 1.6664... Val Loss: 1.6566\n",
            "Epoch: 5/20... Step: 660... Loss: 1.6405... Val Loss: 1.6501\n",
            "Epoch: 5/20... Step: 670... Loss: 1.6632... Val Loss: 1.6408\n",
            "Epoch: 5/20... Step: 680... Loss: 1.6538... Val Loss: 1.6358\n",
            "Epoch: 5/20... Step: 690... Loss: 1.6317... Val Loss: 1.6307\n",
            "Epoch: 6/20... Step: 700... Loss: 1.6437... Val Loss: 1.6220\n",
            "Epoch: 6/20... Step: 710... Loss: 1.6225... Val Loss: 1.6160\n",
            "Epoch: 6/20... Step: 720... Loss: 1.6179... Val Loss: 1.6099\n",
            "Epoch: 6/20... Step: 730... Loss: 1.6271... Val Loss: 1.6049\n",
            "Epoch: 6/20... Step: 740... Loss: 1.5941... Val Loss: 1.6006\n",
            "Epoch: 6/20... Step: 750... Loss: 1.5785... Val Loss: 1.5970\n",
            "Epoch: 6/20... Step: 760... Loss: 1.6110... Val Loss: 1.5951\n",
            "Epoch: 6/20... Step: 770... Loss: 1.5972... Val Loss: 1.5894\n",
            "Epoch: 6/20... Step: 780... Loss: 1.5780... Val Loss: 1.5802\n",
            "Epoch: 6/20... Step: 790... Loss: 1.5689... Val Loss: 1.5794\n",
            "Epoch: 6/20... Step: 800... Loss: 1.5942... Val Loss: 1.5719\n",
            "Epoch: 6/20... Step: 810... Loss: 1.5733... Val Loss: 1.5688\n",
            "Epoch: 6/20... Step: 820... Loss: 1.5309... Val Loss: 1.5668\n",
            "Epoch: 6/20... Step: 830... Loss: 1.5715... Val Loss: 1.5620\n",
            "Epoch: 7/20... Step: 840... Loss: 1.5343... Val Loss: 1.5497\n",
            "Epoch: 7/20... Step: 850... Loss: 1.5561... Val Loss: 1.5459\n",
            "Epoch: 7/20... Step: 860... Loss: 1.5364... Val Loss: 1.5425\n",
            "Epoch: 7/20... Step: 870... Loss: 1.5495... Val Loss: 1.5391\n",
            "Epoch: 7/20... Step: 880... Loss: 1.5462... Val Loss: 1.5398\n",
            "Epoch: 7/20... Step: 890... Loss: 1.5349... Val Loss: 1.5298\n",
            "Epoch: 7/20... Step: 900... Loss: 1.5292... Val Loss: 1.5333\n",
            "Epoch: 7/20... Step: 910... Loss: 1.5035... Val Loss: 1.5311\n",
            "Epoch: 7/20... Step: 920... Loss: 1.5204... Val Loss: 1.5258\n",
            "Epoch: 7/20... Step: 930... Loss: 1.5030... Val Loss: 1.5208\n",
            "Epoch: 7/20... Step: 940... Loss: 1.5026... Val Loss: 1.5172\n",
            "Epoch: 7/20... Step: 950... Loss: 1.5269... Val Loss: 1.5126\n",
            "Epoch: 7/20... Step: 960... Loss: 1.5268... Val Loss: 1.5073\n",
            "Epoch: 7/20... Step: 970... Loss: 1.5279... Val Loss: 1.5047\n",
            "Epoch: 8/20... Step: 980... Loss: 1.4954... Val Loss: 1.5000\n",
            "Epoch: 8/20... Step: 990... Loss: 1.4899... Val Loss: 1.4942\n",
            "Epoch: 8/20... Step: 1000... Loss: 1.4934... Val Loss: 1.4906\n",
            "Epoch: 8/20... Step: 1010... Loss: 1.5243... Val Loss: 1.4902\n",
            "Epoch: 8/20... Step: 1020... Loss: 1.4876... Val Loss: 1.4884\n",
            "Epoch: 8/20... Step: 1030... Loss: 1.4794... Val Loss: 1.4827\n",
            "Epoch: 8/20... Step: 1040... Loss: 1.4909... Val Loss: 1.4880\n",
            "Epoch: 8/20... Step: 1050... Loss: 1.4649... Val Loss: 1.4834\n",
            "Epoch: 8/20... Step: 1060... Loss: 1.4738... Val Loss: 1.4739\n",
            "Epoch: 8/20... Step: 1070... Loss: 1.4747... Val Loss: 1.4764\n",
            "Epoch: 8/20... Step: 1080... Loss: 1.4729... Val Loss: 1.4671\n",
            "Epoch: 8/20... Step: 1090... Loss: 1.4575... Val Loss: 1.4677\n",
            "Epoch: 8/20... Step: 1100... Loss: 1.4458... Val Loss: 1.4618\n",
            "Epoch: 8/20... Step: 1110... Loss: 1.4460... Val Loss: 1.4633\n",
            "Epoch: 9/20... Step: 1120... Loss: 1.4690... Val Loss: 1.4576\n",
            "Epoch: 9/20... Step: 1130... Loss: 1.4705... Val Loss: 1.4562\n",
            "Epoch: 9/20... Step: 1140... Loss: 1.4694... Val Loss: 1.4524\n",
            "Epoch: 9/20... Step: 1150... Loss: 1.4729... Val Loss: 1.4531\n",
            "Epoch: 9/20... Step: 1160... Loss: 1.4291... Val Loss: 1.4536\n",
            "Epoch: 9/20... Step: 1170... Loss: 1.4383... Val Loss: 1.4449\n",
            "Epoch: 9/20... Step: 1180... Loss: 1.4412... Val Loss: 1.4467\n",
            "Epoch: 9/20... Step: 1190... Loss: 1.4742... Val Loss: 1.4453\n",
            "Epoch: 9/20... Step: 1200... Loss: 1.4082... Val Loss: 1.4387\n",
            "Epoch: 9/20... Step: 1210... Loss: 1.4298... Val Loss: 1.4395\n",
            "Epoch: 9/20... Step: 1220... Loss: 1.4226... Val Loss: 1.4356\n",
            "Epoch: 9/20... Step: 1230... Loss: 1.4103... Val Loss: 1.4377\n",
            "Epoch: 9/20... Step: 1240... Loss: 1.4213... Val Loss: 1.4296\n",
            "Epoch: 9/20... Step: 1250... Loss: 1.4234... Val Loss: 1.4306\n",
            "Epoch: 10/20... Step: 1260... Loss: 1.4232... Val Loss: 1.4277\n",
            "Epoch: 10/20... Step: 1270... Loss: 1.4234... Val Loss: 1.4265\n",
            "Epoch: 10/20... Step: 1280... Loss: 1.4351... Val Loss: 1.4247\n",
            "Epoch: 10/20... Step: 1290... Loss: 1.4291... Val Loss: 1.4219\n",
            "Epoch: 10/20... Step: 1300... Loss: 1.4136... Val Loss: 1.4236\n",
            "Epoch: 10/20... Step: 1310... Loss: 1.4121... Val Loss: 1.4178\n",
            "Epoch: 10/20... Step: 1320... Loss: 1.3806... Val Loss: 1.4194\n",
            "Epoch: 10/20... Step: 1330... Loss: 1.3925... Val Loss: 1.4196\n",
            "Epoch: 10/20... Step: 1340... Loss: 1.3746... Val Loss: 1.4126\n",
            "Epoch: 10/20... Step: 1350... Loss: 1.3693... Val Loss: 1.4156\n",
            "Epoch: 10/20... Step: 1360... Loss: 1.3832... Val Loss: 1.4087\n",
            "Epoch: 10/20... Step: 1370... Loss: 1.3801... Val Loss: 1.4116\n",
            "Epoch: 10/20... Step: 1380... Loss: 1.4078... Val Loss: 1.4034\n",
            "Epoch: 10/20... Step: 1390... Loss: 1.4235... Val Loss: 1.4055\n",
            "Epoch: 11/20... Step: 1400... Loss: 1.4134... Val Loss: 1.4021\n",
            "Epoch: 11/20... Step: 1410... Loss: 1.4240... Val Loss: 1.4029\n",
            "Epoch: 11/20... Step: 1420... Loss: 1.4135... Val Loss: 1.3943\n",
            "Epoch: 11/20... Step: 1430... Loss: 1.3796... Val Loss: 1.3985\n",
            "Epoch: 11/20... Step: 1440... Loss: 1.4092... Val Loss: 1.3955\n",
            "Epoch: 11/20... Step: 1450... Loss: 1.3460... Val Loss: 1.3950\n",
            "Epoch: 11/20... Step: 1460... Loss: 1.3701... Val Loss: 1.3939\n",
            "Epoch: 11/20... Step: 1470... Loss: 1.3613... Val Loss: 1.3949\n",
            "Epoch: 11/20... Step: 1480... Loss: 1.3787... Val Loss: 1.3891\n",
            "Epoch: 11/20... Step: 1490... Loss: 1.3655... Val Loss: 1.3908\n",
            "Epoch: 11/20... Step: 1500... Loss: 1.3589... Val Loss: 1.3892\n",
            "Epoch: 11/20... Step: 1510... Loss: 1.3305... Val Loss: 1.3837\n",
            "Epoch: 11/20... Step: 1520... Loss: 1.3711... Val Loss: 1.3815\n",
            "Epoch: 12/20... Step: 1530... Loss: 1.4273... Val Loss: 1.3798\n",
            "Epoch: 12/20... Step: 1540... Loss: 1.3735... Val Loss: 1.3767\n",
            "Epoch: 12/20... Step: 1550... Loss: 1.3806... Val Loss: 1.3729\n",
            "Epoch: 12/20... Step: 1560... Loss: 1.3809... Val Loss: 1.3696\n",
            "Epoch: 12/20... Step: 1570... Loss: 1.3389... Val Loss: 1.3766\n",
            "Epoch: 12/20... Step: 1580... Loss: 1.3213... Val Loss: 1.3691\n",
            "Epoch: 12/20... Step: 1590... Loss: 1.3142... Val Loss: 1.3655\n",
            "Epoch: 12/20... Step: 1600... Loss: 1.3338... Val Loss: 1.3689\n",
            "Epoch: 12/20... Step: 1610... Loss: 1.3264... Val Loss: 1.3718\n",
            "Epoch: 12/20... Step: 1620... Loss: 1.3309... Val Loss: 1.3598\n",
            "Epoch: 12/20... Step: 1630... Loss: 1.3574... Val Loss: 1.3642\n",
            "Epoch: 12/20... Step: 1640... Loss: 1.3375... Val Loss: 1.3602\n",
            "Epoch: 12/20... Step: 1650... Loss: 1.2993... Val Loss: 1.3596\n",
            "Epoch: 12/20... Step: 1660... Loss: 1.3575... Val Loss: 1.3573\n",
            "Epoch: 13/20... Step: 1670... Loss: 1.3347... Val Loss: 1.3611\n",
            "Epoch: 13/20... Step: 1680... Loss: 1.3382... Val Loss: 1.3548\n",
            "Epoch: 13/20... Step: 1690... Loss: 1.3165... Val Loss: 1.3500\n",
            "Epoch: 13/20... Step: 1700... Loss: 1.3195... Val Loss: 1.3450\n",
            "Epoch: 13/20... Step: 1710... Loss: 1.2951... Val Loss: 1.3478\n",
            "Epoch: 13/20... Step: 1720... Loss: 1.3013... Val Loss: 1.3474\n",
            "Epoch: 13/20... Step: 1730... Loss: 1.3427... Val Loss: 1.3420\n",
            "Epoch: 13/20... Step: 1740... Loss: 1.3089... Val Loss: 1.3462\n",
            "Epoch: 13/20... Step: 1750... Loss: 1.2868... Val Loss: 1.3545\n",
            "Epoch: 13/20... Step: 1760... Loss: 1.3052... Val Loss: 1.3387\n",
            "Epoch: 13/20... Step: 1770... Loss: 1.3195... Val Loss: 1.3434\n",
            "Epoch: 13/20... Step: 1780... Loss: 1.2995... Val Loss: 1.3379\n",
            "Epoch: 13/20... Step: 1790... Loss: 1.2884... Val Loss: 1.3424\n",
            "Epoch: 13/20... Step: 1800... Loss: 1.3162... Val Loss: 1.3375\n",
            "Epoch: 14/20... Step: 1810... Loss: 1.3281... Val Loss: 1.3405\n",
            "Epoch: 14/20... Step: 1820... Loss: 1.3007... Val Loss: 1.3392\n",
            "Epoch: 14/20... Step: 1830... Loss: 1.3256... Val Loss: 1.3349\n",
            "Epoch: 14/20... Step: 1840... Loss: 1.2690... Val Loss: 1.3346\n",
            "Epoch: 14/20... Step: 1850... Loss: 1.2489... Val Loss: 1.3359\n",
            "Epoch: 14/20... Step: 1860... Loss: 1.3067... Val Loss: 1.3317\n",
            "Epoch: 14/20... Step: 1870... Loss: 1.3074... Val Loss: 1.3365\n",
            "Epoch: 14/20... Step: 1880... Loss: 1.3081... Val Loss: 1.3392\n",
            "Epoch: 14/20... Step: 1890... Loss: 1.3303... Val Loss: 1.3386\n",
            "Epoch: 14/20... Step: 1900... Loss: 1.2986... Val Loss: 1.3299\n",
            "Epoch: 14/20... Step: 1910... Loss: 1.3054... Val Loss: 1.3347\n",
            "Epoch: 14/20... Step: 1920... Loss: 1.2932... Val Loss: 1.3273\n",
            "Epoch: 14/20... Step: 1930... Loss: 1.2512... Val Loss: 1.3244\n",
            "Epoch: 14/20... Step: 1940... Loss: 1.3277... Val Loss: 1.3239\n",
            "Epoch: 15/20... Step: 1950... Loss: 1.2752... Val Loss: 1.3386\n",
            "Epoch: 15/20... Step: 1960... Loss: 1.2858... Val Loss: 1.3261\n",
            "Epoch: 15/20... Step: 1970... Loss: 1.2844... Val Loss: 1.3209\n",
            "Epoch: 15/20... Step: 1980... Loss: 1.2738... Val Loss: 1.3200\n",
            "Epoch: 15/20... Step: 1990... Loss: 1.2787... Val Loss: 1.3210\n",
            "Epoch: 15/20... Step: 2000... Loss: 1.2510... Val Loss: 1.3117\n",
            "Epoch: 15/20... Step: 2010... Loss: 1.2787... Val Loss: 1.3125\n",
            "Epoch: 15/20... Step: 2020... Loss: 1.2960... Val Loss: 1.3172\n",
            "Epoch: 15/20... Step: 2030... Loss: 1.2682... Val Loss: 1.3187\n",
            "Epoch: 15/20... Step: 2040... Loss: 1.2781... Val Loss: 1.3135\n",
            "Epoch: 15/20... Step: 2050... Loss: 1.2606... Val Loss: 1.3189\n",
            "Epoch: 15/20... Step: 2060... Loss: 1.2731... Val Loss: 1.3141\n",
            "Epoch: 15/20... Step: 2070... Loss: 1.2836... Val Loss: 1.3151\n",
            "Epoch: 15/20... Step: 2080... Loss: 1.2690... Val Loss: 1.3169\n",
            "Epoch: 16/20... Step: 2090... Loss: 1.2897... Val Loss: 1.3148\n",
            "Epoch: 16/20... Step: 2100... Loss: 1.2673... Val Loss: 1.3184\n",
            "Epoch: 16/20... Step: 2110... Loss: 1.2563... Val Loss: 1.3144\n",
            "Epoch: 16/20... Step: 2120... Loss: 1.2617... Val Loss: 1.3134\n",
            "Epoch: 16/20... Step: 2130... Loss: 1.2451... Val Loss: 1.3082\n",
            "Epoch: 16/20... Step: 2140... Loss: 1.2570... Val Loss: 1.3047\n",
            "Epoch: 16/20... Step: 2150... Loss: 1.2708... Val Loss: 1.3082\n",
            "Epoch: 16/20... Step: 2160... Loss: 1.2559... Val Loss: 1.3092\n",
            "Epoch: 16/20... Step: 2170... Loss: 1.2577... Val Loss: 1.3129\n",
            "Epoch: 16/20... Step: 2180... Loss: 1.2546... Val Loss: 1.3044\n",
            "Epoch: 16/20... Step: 2190... Loss: 1.2725... Val Loss: 1.3075\n",
            "Epoch: 16/20... Step: 2200... Loss: 1.2519... Val Loss: 1.3049\n",
            "Epoch: 16/20... Step: 2210... Loss: 1.2199... Val Loss: 1.3019\n",
            "Epoch: 16/20... Step: 2220... Loss: 1.2538... Val Loss: 1.3025\n",
            "Epoch: 17/20... Step: 2230... Loss: 1.2383... Val Loss: 1.3029\n",
            "Epoch: 17/20... Step: 2240... Loss: 1.2503... Val Loss: 1.2991\n",
            "Epoch: 17/20... Step: 2250... Loss: 1.2332... Val Loss: 1.3032\n",
            "Epoch: 17/20... Step: 2260... Loss: 1.2438... Val Loss: 1.2999\n",
            "Epoch: 17/20... Step: 2270... Loss: 1.2512... Val Loss: 1.3029\n",
            "Epoch: 17/20... Step: 2280... Loss: 1.2600... Val Loss: 1.3009\n",
            "Epoch: 17/20... Step: 2290... Loss: 1.2524... Val Loss: 1.3018\n",
            "Epoch: 17/20... Step: 2300... Loss: 1.2247... Val Loss: 1.3037\n",
            "Epoch: 17/20... Step: 2310... Loss: 1.2359... Val Loss: 1.3025\n",
            "Epoch: 17/20... Step: 2320... Loss: 1.2374... Val Loss: 1.2973\n",
            "Epoch: 17/20... Step: 2330... Loss: 1.2296... Val Loss: 1.3051\n",
            "Epoch: 17/20... Step: 2340... Loss: 1.2507... Val Loss: 1.2927\n",
            "Epoch: 17/20... Step: 2350... Loss: 1.2478... Val Loss: 1.2944\n",
            "Epoch: 17/20... Step: 2360... Loss: 1.2517... Val Loss: 1.2949\n",
            "Epoch: 18/20... Step: 2370... Loss: 1.2278... Val Loss: 1.3033\n",
            "Epoch: 18/20... Step: 2380... Loss: 1.2411... Val Loss: 1.2933\n",
            "Epoch: 18/20... Step: 2390... Loss: 1.2337... Val Loss: 1.2953\n",
            "Epoch: 18/20... Step: 2400... Loss: 1.2605... Val Loss: 1.2945\n",
            "Epoch: 18/20... Step: 2410... Loss: 1.2523... Val Loss: 1.2904\n",
            "Epoch: 18/20... Step: 2420... Loss: 1.2311... Val Loss: 1.2881\n",
            "Epoch: 18/20... Step: 2430... Loss: 1.2491... Val Loss: 1.2919\n",
            "Epoch: 18/20... Step: 2440... Loss: 1.2198... Val Loss: 1.2923\n",
            "Epoch: 18/20... Step: 2450... Loss: 1.2134... Val Loss: 1.2888\n",
            "Epoch: 18/20... Step: 2460... Loss: 1.2369... Val Loss: 1.2896\n",
            "Epoch: 18/20... Step: 2470... Loss: 1.2219... Val Loss: 1.2898\n",
            "Epoch: 18/20... Step: 2480... Loss: 1.2187... Val Loss: 1.2865\n",
            "Epoch: 18/20... Step: 2490... Loss: 1.2114... Val Loss: 1.2855\n",
            "Epoch: 18/20... Step: 2500... Loss: 1.2187... Val Loss: 1.2895\n",
            "Epoch: 19/20... Step: 2510... Loss: 1.2201... Val Loss: 1.2872\n",
            "Epoch: 19/20... Step: 2520... Loss: 1.2331... Val Loss: 1.2839\n",
            "Epoch: 19/20... Step: 2530... Loss: 1.2390... Val Loss: 1.2835\n",
            "Epoch: 19/20... Step: 2540... Loss: 1.2428... Val Loss: 1.2855\n",
            "Epoch: 19/20... Step: 2550... Loss: 1.2110... Val Loss: 1.2834\n",
            "Epoch: 19/20... Step: 2560... Loss: 1.2217... Val Loss: 1.2815\n",
            "Epoch: 19/20... Step: 2570... Loss: 1.2085... Val Loss: 1.2843\n",
            "Epoch: 19/20... Step: 2580... Loss: 1.2434... Val Loss: 1.2847\n",
            "Epoch: 19/20... Step: 2590... Loss: 1.2110... Val Loss: 1.2834\n",
            "Epoch: 19/20... Step: 2600... Loss: 1.2009... Val Loss: 1.2805\n",
            "Epoch: 19/20... Step: 2610... Loss: 1.2135... Val Loss: 1.2822\n",
            "Epoch: 19/20... Step: 2620... Loss: 1.1971... Val Loss: 1.2811\n",
            "Epoch: 19/20... Step: 2630... Loss: 1.2030... Val Loss: 1.2763\n",
            "Epoch: 19/20... Step: 2640... Loss: 1.2223... Val Loss: 1.2811\n",
            "Epoch: 20/20... Step: 2650... Loss: 1.2266... Val Loss: 1.2781\n",
            "Epoch: 20/20... Step: 2660... Loss: 1.2274... Val Loss: 1.2765\n",
            "Epoch: 20/20... Step: 2670... Loss: 1.2276... Val Loss: 1.2759\n",
            "Epoch: 20/20... Step: 2680... Loss: 1.2280... Val Loss: 1.2771\n",
            "Epoch: 20/20... Step: 2690... Loss: 1.2158... Val Loss: 1.2804\n",
            "Epoch: 20/20... Step: 2700... Loss: 1.2179... Val Loss: 1.2741\n",
            "Epoch: 20/20... Step: 2710... Loss: 1.1957... Val Loss: 1.2776\n",
            "Epoch: 20/20... Step: 2720... Loss: 1.1912... Val Loss: 1.2797\n",
            "Epoch: 20/20... Step: 2730... Loss: 1.1812... Val Loss: 1.2775\n",
            "Epoch: 20/20... Step: 2740... Loss: 1.1914... Val Loss: 1.2785\n",
            "Epoch: 20/20... Step: 2750... Loss: 1.1987... Val Loss: 1.2810\n",
            "Epoch: 20/20... Step: 2760... Loss: 1.1833... Val Loss: 1.2763\n",
            "Epoch: 20/20... Step: 2770... Loss: 1.2231... Val Loss: 1.2764\n",
            "Epoch: 20/20... Step: 2780... Loss: 1.2430... Val Loss: 1.2731\n"
          ],
          "name": "stdout"
        }
      ]
    },
    {
      "metadata": {
        "id": "kZPpI0gywoTR",
        "colab_type": "text"
      },
      "cell_type": "markdown",
      "source": [
        "## Getting the best model\n",
        "\n",
        "To set your hyperparameters to get the best performance, you'll want to watch the training and validation losses. If your training loss is much lower than the validation loss, you're overfitting. Increase regularization (more dropout) or use a smaller network. If the training and validation losses are close, you're underfitting so you can increase the size of the network."
      ]
    },
    {
      "metadata": {
        "id": "TjbfpGFmwoTS",
        "colab_type": "text"
      },
      "cell_type": "markdown",
      "source": [
        "## Hyperparameters\n",
        "\n",
        "Here are the hyperparameters for the network.\n",
        "\n",
        "In defining the model:\n",
        "* `n_hidden` - The number of units in the hidden layers.\n",
        "* `n_layers` - Number of hidden LSTM layers to use.\n",
        "\n",
        "We assume that dropout probability and learning rate will be kept at the default, in this example.\n",
        "\n",
        "And in training:\n",
        "* `batch_size` - Number of sequences running through the network in one pass.\n",
        "* `seq_length` - Number of characters in the sequence the network is trained on. Larger is better typically, the network will learn more long range dependencies. But it takes longer to train. 100 is typically a good number here.\n",
        "* `lr` - Learning rate for training\n",
        "\n",
        "Here's some good advice from Andrej Karpathy on training the network. I'm going to copy it in here for your benefit, but also link to [where it originally came from](https://github.com/karpathy/char-rnn#tips-and-tricks).\n",
        "\n",
        "> ## Tips and Tricks\n",
        "\n",
        ">### Monitoring Validation Loss vs. Training Loss\n",
        ">If you're somewhat new to Machine Learning or Neural Networks it can take a bit of expertise to get good models. The most important quantity to keep track of is the difference between your training loss (printed during training) and the validation loss (printed once in a while when the RNN is run on the validation data (by default every 1000 iterations)). In particular:\n",
        "\n",
        "> - If your training loss is much lower than validation loss then this means the network might be **overfitting**. Solutions to this are to decrease your network size, or to increase dropout. For example you could try dropout of 0.5 and so on.\n",
        "> - If your training/validation loss are about equal then your model is **underfitting**. Increase the size of your model (either number of layers or the raw number of neurons per layer)\n",
        "\n",
        "> ### Approximate number of parameters\n",
        "\n",
        "> The two most important parameters that control the model are `n_hidden` and `n_layers`. I would advise that you always use `n_layers` of either 2/3. The `n_hidden` can be adjusted based on how much data you have. The two important quantities to keep track of here are:\n",
        "\n",
        "> - The number of parameters in your model. This is printed when you start training.\n",
        "> - The size of your dataset. 1MB file is approximately 1 million characters.\n",
        "\n",
        ">These two should be about the same order of magnitude. It's a little tricky to tell. Here are some examples:\n",
        "\n",
        "> - I have a 100MB dataset and I'm using the default parameter settings (which currently print 150K parameters). My data size is significantly larger (100 mil >> 0.15 mil), so I expect to heavily underfit. I am thinking I can comfortably afford to make `n_hidden` larger.\n",
        "> - I have a 10MB dataset and running a 10 million parameter model. I'm slightly nervous and I'm carefully monitoring my validation loss. If it's larger than my training loss then I may want to try to increase dropout a bit and see if that helps the validation loss.\n",
        "\n",
        "> ### Best models strategy\n",
        "\n",
        ">The winning strategy to obtaining very good models (if you have the compute time) is to always err on making the network larger (as large as you're willing to wait for it to compute) and then try different dropout values (between 0,1). Whatever model has the best validation performance (the loss, written in the checkpoint filename, low is good) is the one you should use in the end.\n",
        "\n",
        ">It is very common in deep learning to run many different models with many different hyperparameter settings, and in the end take whatever checkpoint gave the best validation performance.\n",
        "\n",
        ">By the way, the size of your training and validation splits are also parameters. Make sure you have a decent amount of data in your validation set or otherwise the validation performance will be noisy and not very informative."
      ]
    },
    {
      "metadata": {
        "id": "Is_pgFhawoTS",
        "colab_type": "text"
      },
      "cell_type": "markdown",
      "source": [
        "## Checkpoint\n",
        "\n",
        "After training, we'll save the model so we can load it again later if we need too. Here I'm saving the parameters needed to create the same architecture, the hidden layer hyperparameters and the text characters."
      ]
    },
    {
      "metadata": {
        "id": "y9RWMa2EwoTU",
        "colab_type": "code",
        "colab": {}
      },
      "cell_type": "code",
      "source": [
        "# change the name, for saving multiple files\n",
        "model_name = 'rnn_x_epoch.net'\n",
        "\n",
        "checkpoint = {'n_hidden': net.n_hidden,\n",
        "              'n_layers': net.n_layers,\n",
        "              'state_dict': net.state_dict(),\n",
        "              'tokens': net.chars}\n",
        "\n",
        "with open(model_name, 'wb') as f:\n",
        "    torch.save(checkpoint, f)"
      ],
      "execution_count": 0,
      "outputs": []
    },
    {
      "metadata": {
        "id": "48xPEai2woTY",
        "colab_type": "text"
      },
      "cell_type": "markdown",
      "source": [
        "---\n",
        "## Making Predictions\n",
        "\n",
        "Now that the model is trained, we'll want to sample from it and make predictions about next characters! To sample, we pass in a character and have the network predict the next character. Then we take that character, pass it back in, and get another predicted character. Just keep doing this and you'll generate a bunch of text!\n",
        "\n",
        "### A note on the `predict`  function\n",
        "\n",
        "The output of our RNN is from a fully-connected layer and it outputs a **distribution of next-character scores**.\n",
        "\n",
        "> To actually get the next character, we apply a softmax function, which gives us a *probability* distribution that we can then sample to predict the next character.\n",
        "\n",
        "### Top K sampling\n",
        "\n",
        "Our predictions come from a categorical probability distribution over all the possible characters. We can make the sample text and make it more reasonable to handle (with less variables) by only considering some $K$ most probable characters. This will prevent the network from giving us completely absurd characters while allowing it to introduce some noise and randomness into the sampled text. Read more about [topk, here](https://pytorch.org/docs/stable/torch.html#torch.topk).\n"
      ]
    },
    {
      "metadata": {
        "id": "__HDcksRwoTZ",
        "colab_type": "code",
        "colab": {}
      },
      "cell_type": "code",
      "source": [
        "def predict(net, char, h=None, top_k=None):\n",
        "        ''' Given a character, predict the next character.\n",
        "            Returns the predicted character and the hidden state.\n",
        "        '''\n",
        "        \n",
        "        # tensor inputs\n",
        "        x = np.array([[net.char2int[char]]])\n",
        "        x = one_hot_encode(x, len(net.chars))\n",
        "        inputs = torch.from_numpy(x)\n",
        "        \n",
        "        if(train_on_gpu):\n",
        "            inputs = inputs.cuda()\n",
        "        \n",
        "        # detach hidden state from history\n",
        "        h = tuple([each.data for each in h])\n",
        "        # get the output of the model\n",
        "        out, h = net(inputs, h)\n",
        "\n",
        "        # get the character probabilities\n",
        "        p = F.softmax(out, dim=1).data\n",
        "        if(train_on_gpu):\n",
        "            p = p.cpu() # move to cpu\n",
        "        \n",
        "        # get top characters\n",
        "        if top_k is None:\n",
        "            top_ch = np.arange(len(net.chars))\n",
        "        else:\n",
        "            p, top_ch = p.topk(top_k)\n",
        "            top_ch = top_ch.numpy().squeeze()\n",
        "        \n",
        "        # select the likely next character with some element of randomness\n",
        "        p = p.numpy().squeeze()\n",
        "        char = np.random.choice(top_ch, p=p/p.sum())\n",
        "        \n",
        "        # return the encoded value of the predicted char and the hidden state\n",
        "        return net.int2char[char], h"
      ],
      "execution_count": 0,
      "outputs": []
    },
    {
      "metadata": {
        "id": "Eo87MacMwoTc",
        "colab_type": "text"
      },
      "cell_type": "markdown",
      "source": [
        "### Priming and generating text \n",
        "\n",
        "Typically you'll want to prime the network so you can build up a hidden state. Otherwise the network will start out generating characters at random. In general the first bunch of characters will be a little rough since it hasn't built up a long history of characters to predict from."
      ]
    },
    {
      "metadata": {
        "id": "XNyVA0tvwoTd",
        "colab_type": "code",
        "colab": {}
      },
      "cell_type": "code",
      "source": [
        "def sample(net, size, prime='The', top_k=None):\n",
        "        \n",
        "    if(train_on_gpu):\n",
        "        net.cuda()\n",
        "    else:\n",
        "        net.cpu()\n",
        "    \n",
        "    net.eval() # eval mode\n",
        "    \n",
        "    # First off, run through the prime characters\n",
        "    chars = [ch for ch in prime]\n",
        "    h = net.init_hidden(1)\n",
        "    for ch in prime:\n",
        "        char, h = predict(net, ch, h, top_k=top_k)\n",
        "\n",
        "    chars.append(char)\n",
        "    \n",
        "    # Now pass in the previous character and get a new one\n",
        "    for ii in range(size):\n",
        "        char, h = predict(net, chars[-1], h, top_k=top_k)\n",
        "        chars.append(char)\n",
        "\n",
        "    return ''.join(chars)"
      ],
      "execution_count": 0,
      "outputs": []
    },
    {
      "metadata": {
        "id": "T8Mf-L8OwoTf",
        "colab_type": "code",
        "colab": {
          "base_uri": "https://localhost:8080/",
          "height": 289
        },
        "outputId": "b4eb2f0f-c7ea-4d95-e1e5-716ae64188d1"
      },
      "cell_type": "code",
      "source": [
        "print(sample(net, 1000, prime='Anna', top_k=5))"
      ],
      "execution_count": 29,
      "outputs": [
        {
          "output_type": "stream",
          "text": [
            "Anna,\n",
            "he confured him in the counting the peasants. The face who he said,\n",
            "and sat down to silent his suffering, and thoughts, his hands, he sourded\n",
            "them. But it was asking. But he had stood. But in all this in that things that\n",
            "he had been the soul for meating his soul. And all her face was the secret who\n",
            "were serious fars out of her shoulders on his brother, straight at the\n",
            "sort of still as the massical stact of a soltion in whetch he\n",
            "cares out on the simpless about his soul. He was not at all secres of a\n",
            "massion, but his such coat to home, who was anything stupin to her for\n",
            "somethich, an incusiat from all them of the pastical straight of the second simplance.\n",
            "And that the compasion was the conflusion to the still minister in\n",
            "the same time and waiting for as shaking a sorry thought and filled all\n",
            "about the poor and this as the princess in the mother, who he\n",
            "had told the position. He wrote to her. She disliked through her as it\n",
            "had already seen it. This was as intensely telling him; he saw h\n"
          ],
          "name": "stdout"
        }
      ]
    },
    {
      "metadata": {
        "id": "Ec0VXMHCwoTj",
        "colab_type": "text"
      },
      "cell_type": "markdown",
      "source": [
        "## Loading a checkpoint"
      ]
    },
    {
      "metadata": {
        "id": "dBSYfkpUwoTo",
        "colab_type": "code",
        "colab": {}
      },
      "cell_type": "code",
      "source": [
        "# Here we have loaded in a model that trained over 20 epochs `rnn_20_epoch.net`\n",
        "with open('rnn_x_epoch.net', 'rb') as f:\n",
        "    checkpoint = torch.load(f)\n",
        "    \n",
        "loaded = CharRNN(checkpoint['tokens'], n_hidden=checkpoint['n_hidden'], n_layers=checkpoint['n_layers'])\n",
        "loaded.load_state_dict(checkpoint['state_dict'])"
      ],
      "execution_count": 0,
      "outputs": []
    },
    {
      "metadata": {
        "id": "5joynl0dwoTs",
        "colab_type": "code",
        "colab": {
          "base_uri": "https://localhost:8080/",
          "height": 894
        },
        "outputId": "13d10601-e7ee-4171-8c86-fe2d055d793b"
      },
      "cell_type": "code",
      "source": [
        "# Sample using a loaded model\n",
        "print(sample(loaded, 2000, top_k=5, prime=\"And Levin said\"))"
      ],
      "execution_count": 31,
      "outputs": [
        {
          "output_type": "stream",
          "text": [
            "And Levin said:\n",
            "\n",
            "\"I will no see it with a change of tame of having misery and to be done?\" she\n",
            "said, and was through something.\n",
            "\n",
            "\"What is it? Why and then, and I'm very glad there?\"\n",
            "\n",
            "\"Oh, what is the silent and marrears, they are not and saying?\"\n",
            "\n",
            "\"Yes, yes,\" she said, later with a change intensity; bringing\n",
            "his conversation with her. She stood in the province, she saw a smile.\n",
            "\n",
            "Sergey Ivanovitch he thought of the compartmonical children without\n",
            "spoking at the mads, broken off them to toot her shut. His highest\n",
            "hand the painter had so listened was all so settle his hands with her.\n",
            "\n",
            "\"I see that the man was in the first silence.\"\n",
            "\n",
            "\"I don't centain to her.\"\n",
            "\n",
            "\"Yes, and then.\"\n",
            "\n",
            "\"Wenly is a stream in a most son in that impolling carriage, and\n",
            "the secart his word the matter's are success, but the feeling asting to\n",
            "her, there's no dependent,\" said Anna. \"Anna Arkadyevna, I canet a\n",
            "principal of man, but how are you sett the thoughts.\"\n",
            "\n",
            "\"Not a bit of man, and I am siren,\" said Levin, who was to have the\n",
            "same assamed of some the minutes. She smiled to say a shrow on\n",
            "his boots.\n",
            "\n",
            "\"Well, was showed you. Well, and there is it and this work in suffering\n",
            "for me in the country of that. All all me, how is she had that you shall\n",
            "say to the marriage, the fields as though,\" she said.\n",
            "\n",
            "\"There's a good study, as a step of thinking of them to bring them what I shall\n",
            "be tribled on to me. You suppose...\"\n",
            "\n",
            "\"I don't know it.\"\n",
            "\n",
            "\"Oh, not an attick to you to help, then? I was to be as heart.\n",
            "There are noireliet that he's all alone, but the princess was\n",
            "a single treater for your letter. I shall be all the satisfied, though a\n",
            "shoulder in the forty.\"\n",
            "\n",
            "\"I wanted,\" he said, laid with a stander and princess, \"but you don't\n",
            "kale to the maincome,\" said Levin, and to his while he had so pleasant\n",
            "and staring him, she went out on it of the midicine sitting,, and he comling\n",
            "to ask and was in the same too. At that to the day with his should be a\n",
            "look with the same teath the princess towards, and he cared in the\n",
            "conversation,\n"
          ],
          "name": "stdout"
        }
      ]
    },
    {
      "metadata": {
        "id": "IzdcJNTewoTw",
        "colab_type": "code",
        "colab": {}
      },
      "cell_type": "code",
      "source": [
        ""
      ],
      "execution_count": 0,
      "outputs": []
    }
  ]
}