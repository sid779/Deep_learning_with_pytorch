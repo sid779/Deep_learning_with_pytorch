{
  "nbformat": 4,
  "nbformat_minor": 0,
  "metadata": {
    "colab": {
      "name": "Part 2 - Neural Networks in PyTorch (Exercises).ipynb",
      "version": "0.3.2",
      "provenance": [],
      "include_colab_link": true
    },
    "kernelspec": {
      "display_name": "Python [default]",
      "language": "python",
      "name": "python3"
    }
  },
  "cells": [
    {
      "cell_type": "markdown",
      "metadata": {
        "id": "view-in-github",
        "colab_type": "text"
      },
      "source": [
        "<a href=\"https://colab.research.google.com/github/sid779/Deep_learning_with_pytorch/blob/master/intro-to-pytorch/Part%202%20-%20Neural%20Networks%20in%20PyTorch%20(Exercises).ipynb\" target=\"_parent\"><img src=\"https://colab.research.google.com/assets/colab-badge.svg\" alt=\"Open In Colab\"/></a>"
      ]
    },
    {
      "metadata": {
        "id": "uZV9yFw6x74Z",
        "colab_type": "text"
      },
      "cell_type": "markdown",
      "source": [
        "# Neural networks with PyTorch\n",
        "\n",
        "Deep learning networks tend to be massive with dozens or hundreds of layers, that's where the term \"deep\" comes from. You can build one of these deep networks using only weight matrices as we did in the previous notebook, but in general it's very cumbersome and difficult to implement. PyTorch has a nice module `nn` that provides a nice way to efficiently build large neural networks."
      ]
    },
    {
      "metadata": {
        "id": "2n3nRSMJx74d",
        "colab_type": "code",
        "colab": {
          "base_uri": "https://localhost:8080/",
          "height": 134
        },
        "outputId": "0efc9aba-0c34-4cfd-c0d8-3f3975e9a15f"
      },
      "cell_type": "code",
      "source": [
        "# Import necessary packages\n",
        "\n",
        "%matplotlib inline\n",
        "%config InlineBackend.figure_format = 'retina'\n",
        "\n",
        "import numpy as np\n",
        "import torch\n",
        "\n",
        "!wget -c https://raw.githubusercontent.com/udacity/deep-learning-v2-pytorch/master/intro-to-pytorch/helper.py\n",
        "import helper\n",
        "\n",
        "\n",
        "import matplotlib.pyplot as plt"
      ],
      "execution_count": 33,
      "outputs": [
        {
          "output_type": "stream",
          "text": [
            "--2018-12-11 11:51:00--  https://raw.githubusercontent.com/udacity/deep-learning-v2-pytorch/master/intro-to-pytorch/helper.py\n",
            "Resolving raw.githubusercontent.com (raw.githubusercontent.com)... 151.101.0.133, 151.101.64.133, 151.101.128.133, ...\n",
            "Connecting to raw.githubusercontent.com (raw.githubusercontent.com)|151.101.0.133|:443... connected.\n",
            "HTTP request sent, awaiting response... 416 Range Not Satisfiable\n",
            "\n",
            "    The file is already fully retrieved; nothing to do.\n",
            "\n"
          ],
          "name": "stdout"
        }
      ]
    },
    {
      "metadata": {
        "id": "ZIOZ8akzEkmS",
        "colab_type": "text"
      },
      "cell_type": "markdown",
      "source": [
        "# New Section"
      ]
    },
    {
      "metadata": {
        "id": "lPED-HuS1oAv",
        "colab_type": "code",
        "colab": {}
      },
      "cell_type": "code",
      "source": [
        "# http://pytorch.org/\n",
        "from os.path import exists\n",
        "from wheel.pep425tags import get_abbr_impl, get_impl_ver, get_abi_tag\n",
        "platform = '{}{}-{}'.format(get_abbr_impl(), get_impl_ver(), get_abi_tag())\n",
        "cuda_output = !ldconfig -p|grep cudart.so|sed -e 's/.*\\.\\([0-9]*\\)\\.\\([0-9]*\\)$/cu\\1\\2/'\n",
        "accelerator = cuda_output[0] if exists('/dev/nvidia0') else 'cpu'\n",
        "\n",
        "!pip install -q http://download.pytorch.org/whl/{accelerator}/torch-0.4.1-{platform}-linux_x86_64.whl torchvision\n",
        "import torch"
      ],
      "execution_count": 0,
      "outputs": []
    },
    {
      "metadata": {
        "id": "TJiCxYrqx74i",
        "colab_type": "text"
      },
      "cell_type": "markdown",
      "source": [
        "\n",
        "Now we're going to build a larger network that can solve a (formerly) difficult problem, identifying text in an image. Here we'll use the MNIST dataset which consists of greyscale handwritten digits. Each image is 28x28 pixels, you can see a sample below\n",
        "\n",
        "<img src='https://github.com/sid779/Deep_learning_with_pytorch/blob/master/intro-to-pytorch/assets/mnist.png?raw=1'>\n",
        "\n",
        "Our goal is to build a neural network that can take one of these images and predict the digit in the image.\n",
        "\n",
        "First up, we need to get our dataset. This is provided through the `torchvision` package. The code below will download the MNIST dataset, then create training and test datasets for us. Don't worry too much about the details here, you'll learn more about this later."
      ]
    },
    {
      "metadata": {
        "id": "epEmFn7Mx74j",
        "colab_type": "code",
        "colab": {}
      },
      "cell_type": "code",
      "source": [
        "### Run this cell\n",
        "\n",
        "from torchvision import datasets, transforms\n",
        "\n",
        "# Define a transform to normalize the data\n",
        "transform = transforms.Compose([transforms.ToTensor(),\n",
        "                              transforms.Normalize((0.5,), (0.5,)),\n",
        "                              ])\n",
        "\n",
        "# Download and load the training data\n",
        "trainset = datasets.MNIST('~/.pytorch/MNIST_data/', download=True, train=True, transform=transform)\n",
        "trainloader = torch.utils.data.DataLoader(trainset, batch_size=64, shuffle=True)"
      ],
      "execution_count": 0,
      "outputs": []
    },
    {
      "metadata": {
        "id": "Wofvc17Qx74n",
        "colab_type": "text"
      },
      "cell_type": "markdown",
      "source": [
        "We have the training data loaded into `trainloader` and we make that an iterator with `iter(trainloader)`. Later, we'll use this to loop through the dataset for training, like\n",
        "\n",
        "```python\n",
        "for image, label in trainloader:\n",
        "    ## do things with images and labels\n",
        "```\n",
        "\n",
        "You'll notice I created the `trainloader` with a batch size of 64, and `shuffle=True`. The batch size is the number of images we get in one iteration from the data loader and pass through our network, often called a *batch*. And `shuffle=True` tells it to shuffle the dataset every time we start going through the data loader again. But here I'm just grabbing the first batch so we can check out the data. We can see below that `images` is just a tensor with size `(64, 1, 28, 28)`. So, 64 images per batch, 1 color channel, and 28x28 images."
      ]
    },
    {
      "metadata": {
        "id": "RUcfNnMVx74o",
        "colab_type": "code",
        "colab": {
          "base_uri": "https://localhost:8080/",
          "height": 67
        },
        "outputId": "3c827c66-4159-4a9c-eec4-172c915c0558"
      },
      "cell_type": "code",
      "source": [
        "dataiter = iter(trainloader)\n",
        "images, labels = dataiter.next()\n",
        "print(type(images))\n",
        "print(images.shape)\n",
        "print(labels.shape)"
      ],
      "execution_count": 36,
      "outputs": [
        {
          "output_type": "stream",
          "text": [
            "<class 'torch.Tensor'>\n",
            "torch.Size([64, 1, 28, 28])\n",
            "torch.Size([64])\n"
          ],
          "name": "stdout"
        }
      ]
    },
    {
      "metadata": {
        "id": "A2YCvfPXx74s",
        "colab_type": "text"
      },
      "cell_type": "markdown",
      "source": [
        "This is what one of the images looks like. "
      ]
    },
    {
      "metadata": {
        "id": "q86nVluKx74t",
        "colab_type": "code",
        "colab": {
          "base_uri": "https://localhost:8080/",
          "height": 265
        },
        "outputId": "9586b77f-685f-48a5-ce01-98ada25fe0f5"
      },
      "cell_type": "code",
      "source": [
        "plt.imshow(images[1].numpy().squeeze(), cmap='Greys_r');"
      ],
      "execution_count": 37,
      "outputs": [
        {
          "output_type": "display_data",
          "data": {
            "image/png": "[encoded data removed]",
            "text/plain": [
              "<matplotlib.figure.Figure at 0x7f0aeb0e68d0>"
            ]
          },
          "metadata": {
            "tags": [],
            "image/png": {
              "width": 249,
              "height": 248
            }
          }
        }
      ]
    },
    {
      "metadata": {
        "id": "_7tFNkqUx74w",
        "colab_type": "text"
      },
      "cell_type": "markdown",
      "source": [
        "First, let's try to build a simple network for this dataset using weight matrices and matrix multiplications. Then, we'll see how to do it using PyTorch's `nn` module which provides a much more convenient and powerful method for defining network architectures.\n",
        "\n",
        "The networks you've seen so far are called *fully-connected* or *dense* networks. Each unit in one layer is connected to each unit in the next layer. In fully-connected networks, the input to each layer must be a one-dimensional vector (which can be stacked into a 2D tensor as a batch of multiple examples). However, our images are 28x28 2D tensors, so we need to convert them into 1D vectors. Thinking about sizes, we need to convert the batch of images with shape `(64, 1, 28, 28)` to a have a shape of `(64, 784)`, 784 is 28 times 28. This is typically called *flattening*, we flattened the 2D images into 1D vectors.\n",
        "\n",
        "Previously you built a network with one output unit. Here we need 10 output units, one for each digit. We want our network to predict the digit shown in an image, so what we'll do is calculate probabilities that the image is of any one digit or class. This ends up being a discrete probability distribution over the classes (digits) that tells us the most likely class for the image. That means we need 10 output units for the 10 classes (digits). We'll see how to convert the network output into a probability distribution next.\n",
        "\n",
        "> **Exercise:** Flatten the batch of images `images`. Then build a multi-layer network with 784 input units, 256 hidden units, and 10 output units using random tensors for the weights and biases. For now, use a sigmoid activation for the hidden layer. Leave the output layer without an activation, we'll add one that gives us a probability distribution next."
      ]
    },
    {
      "metadata": {
        "id": "qh97yKm7x74x",
        "colab_type": "code",
        "colab": {
          "base_uri": "https://localhost:8080/",
          "height": 2167
        },
        "outputId": "e8e27f65-b53b-46d8-8fa9-4e6edc38b54e"
      },
      "cell_type": "code",
      "source": [
        "## Your solution\n",
        "def activation(x):\n",
        "   return 1/(1+torch.exp(-x))\n",
        "  \n",
        "input=images.view(images.shape[0],784)\n",
        "\n",
        "w1=torch.randn(784,256)\n",
        "b1=torch.randn(256)\n",
        "\n",
        "w2=torch.randn(256,10)\n",
        "b2=torch.randn(10)\n",
        "\n",
        "h=activation(torch.mm(input,w1)+b1)\n",
        "\n",
        "\n",
        "out =torch.mm(h,w2)+b2\n",
        "# output of your network, should have shape (64,10)\n",
        "print(out)"
      ],
      "execution_count": 38,
      "outputs": [
        {
          "output_type": "stream",
          "text": [
            "tensor([[  2.3089,  -7.1146,  -9.0965,  11.5204,  17.7832,  -6.6452,  -1.0624,\n",
            "          12.5159,  18.3196,  -6.4249],\n",
            "        [ -9.7796,  -6.1152,  -4.1772,  30.4121,   6.8620, -11.4333,  11.8239,\n",
            "           9.1833,   4.0474,   5.2925],\n",
            "        [ -0.6485,  -2.5883,   0.4980,  10.9905,   9.9264, -21.5089,   7.9649,\n",
            "          12.7726,  -0.7424,  -6.3294],\n",
            "        [ -4.6322, -11.1664,  -1.7450,  28.8431,   8.3441, -16.0693,  -1.7064,\n",
            "           9.4056,  -0.4383,   2.8967],\n",
            "        [-16.5820, -10.3359,   3.0063,  16.5614,  17.1681, -13.1163,   1.4678,\n",
            "           9.2457,   5.5398,   7.3608],\n",
            "        [ -1.1215,  -8.9909,  -7.8671,  15.7590,   8.5284, -12.9943,  10.3591,\n",
            "           6.2689,   3.3679,   0.8416],\n",
            "        [ -3.4373,  -1.5578,  -7.7435,  13.8111,  12.0291, -15.2206,   8.6202,\n",
            "          14.9235,   6.3243,  -6.1614],\n",
            "        [  1.8550,  -6.6138,  -8.1553,  13.1744,   6.5487, -25.2924,  10.3065,\n",
            "           4.9699,   2.2948,  -3.2285],\n",
            "        [ -1.9549, -10.7727,  -6.7930,  14.8046,  11.1700, -28.3692,   0.7125,\n",
            "           8.6077,   4.1038,  -7.7077],\n",
            "        [ -8.1772,  -7.1473,  -5.3373,  15.2070,  10.9042, -21.8659,   2.1592,\n",
            "          11.0522,   0.5763,   4.1686],\n",
            "        [-11.0258,  -7.5146,   1.4186,  36.6179,  12.7134, -17.9988,   4.7376,\n",
            "           8.1195,   3.0090,  -4.8148],\n",
            "        [ -8.2969,  -8.9846,   6.1872,  24.8839,  16.9723, -12.4831,   9.2914,\n",
            "           5.4187,  10.8367, -15.2541],\n",
            "        [ -9.9569, -11.0010,   2.3813,  18.7715,   9.0389, -13.3305,   5.6226,\n",
            "          10.9091,   6.2687,  -2.4433],\n",
            "        [ -9.5650,   1.9830,  -7.0012,  16.9635,  10.6964, -15.0417,   8.6156,\n",
            "           8.9231,   7.3766,  -6.5292],\n",
            "        [ -3.0439,   0.6274,  -6.1074,  19.6835,   6.6953, -18.6585,  19.0899,\n",
            "           4.7835,  10.4938,  -7.1319],\n",
            "        [ -4.8848, -14.1324,  -5.2922,  16.9916,   9.5093, -24.0070,  13.3490,\n",
            "           7.0201,  18.0364,  -1.4740],\n",
            "        [  5.4909,  -1.2446,   2.5261,  27.6867,  15.2374, -15.8425,  13.2248,\n",
            "           2.5040,   0.7423,  -2.3639],\n",
            "        [ -9.5253, -10.2303,  12.7255,  10.7281,  11.9569, -25.0127,  13.0542,\n",
            "          11.4161,   5.6379,   1.4692],\n",
            "        [  4.9733,  -9.1264,  -2.9024,  15.2573,   9.3743, -19.4973,   3.2960,\n",
            "          15.6771,   7.4218,   1.5994],\n",
            "        [ -3.0603, -12.6531,   4.6316,  24.1763,   9.7466, -13.3511,  -6.6429,\n",
            "           4.2171,   2.6645,  -1.1613],\n",
            "        [ -9.5916,  -2.4686,   7.4242,  22.2588,   1.6934,  -3.1722,   0.5621,\n",
            "           4.3938,  -4.1410, -14.9273],\n",
            "        [  3.9348,  -0.7215,  -5.2901,  18.9136,   1.7063, -13.7942,   0.3806,\n",
            "          10.9840,  -0.8823, -10.6529],\n",
            "        [ -9.0493,  -7.6888,  -3.2569,  10.0917,   6.9158, -17.4748,  20.8851,\n",
            "           0.6655,   2.2306,   0.2896],\n",
            "        [  0.9923,  -3.3686,  -1.5813,  25.8612,   0.3334, -12.9907,  11.8302,\n",
            "           2.6732,  -3.5642, -11.1903],\n",
            "        [  0.2298,  -4.4844,  -8.8078,  17.1278,   7.6885, -14.8126,   5.4229,\n",
            "           4.0153,  -1.0566,  -2.8377],\n",
            "        [ -0.9038,  -6.6974,   1.2088,  21.5153,  11.6861, -19.5642,   0.8970,\n",
            "           7.0678,   5.1839,   3.3939],\n",
            "        [ -9.9109,  -9.1065,  -4.6732,   9.2335,  21.5032, -21.3271,  13.0311,\n",
            "          16.7809,   5.6603,  11.4468],\n",
            "        [ -4.5504,  -9.7316,  10.2930,  22.6536,  14.4786, -21.2904,  14.2329,\n",
            "          -5.9683,   7.0424,  -1.9073],\n",
            "        [ -7.4653, -10.0573,  -4.3671,  15.0258,  13.3923, -26.1793,  13.3947,\n",
            "           8.1924,  11.5779,  -4.5458],\n",
            "        [  2.3549, -18.7953, -14.4028,  23.1808,  13.5913, -16.0749,  -0.4077,\n",
            "          21.8920,   2.3274,  -5.8973],\n",
            "        [ 11.6024,  -7.9670,  -3.1284,  18.9954,   6.4503, -23.7152,  12.9545,\n",
            "           9.9000,  11.8262,  -3.5659],\n",
            "        [  0.2081,  -5.1108,   7.5414,  16.1419,  12.5724, -13.7942,   8.6096,\n",
            "           8.8816,   5.8517,  -1.4600],\n",
            "        [ 11.1671,  -7.8982,  -3.2051,  23.7465,  10.6353, -16.6957,   0.0481,\n",
            "           3.9810,   8.9840, -11.8924],\n",
            "        [-15.8902,  -7.6319,  -2.7030,  20.4273,   7.6396, -14.8129,  12.5015,\n",
            "           3.9874,   7.2984,   5.2267],\n",
            "        [  2.1585, -14.2499, -10.2069,  20.5030,  10.1041, -24.1718,  10.6376,\n",
            "           7.5481,  -0.4765,  -4.5352],\n",
            "        [  5.9785,  -1.9481,   2.8299,  26.3048,   3.0334, -21.7336,   1.0910,\n",
            "           6.7525,   4.6307, -15.6927],\n",
            "        [ -3.8673,  -6.1656,  -7.3953,  17.7931,  -3.2270, -19.7719,   1.9574,\n",
            "           9.8743,  13.6762,   0.3759],\n",
            "        [ -1.5698,  -9.7092,   3.2941,  26.1403,   5.0571, -15.6872,   7.0154,\n",
            "           4.7272,   4.6327,  -6.2960],\n",
            "        [ -3.5960,  -6.9525, -16.3400,  20.7297,  12.8584, -16.0624,  -2.5238,\n",
            "           9.6203,   9.9725,  -4.0151],\n",
            "        [ -8.8489, -11.8988,  -7.0327,  28.2090,   2.4121, -20.8617,   3.8599,\n",
            "           0.7741,  -7.2433,   6.4307],\n",
            "        [  1.0743,  -7.6537,   3.9942,  24.6664,   5.6553,  -9.3476,   6.9413,\n",
            "           9.8231,   3.1931, -10.9096],\n",
            "        [ -2.7519,  -2.2367,  -0.3205,  22.8998,  10.6330, -18.3347,  11.7569,\n",
            "           8.1908,  -5.2318,  -5.1026],\n",
            "        [  4.0152, -11.4097,  -2.7490,  18.4183,   7.9682, -13.1498,  10.5519,\n",
            "           3.5320,   6.7395,  -7.6775],\n",
            "        [ -5.7203, -17.1655,   0.5253,  23.7280,  15.8995,  -7.4156,   0.4528,\n",
            "           8.1720,   5.4264,  -1.5481],\n",
            "        [ -7.4327,  -5.1246,  -4.3884,  14.1458,   1.6178, -24.1252,  -1.2922,\n",
            "          14.5560,   2.5794,  -6.6157],\n",
            "        [  2.6218,   0.1920,  -0.7978,  30.4203,   4.7982,  -8.6584,   3.5840,\n",
            "           6.2161,   2.1269,  -4.4262],\n",
            "        [ -5.5952, -10.8586,  -2.7731,  18.5879,  -1.9942, -17.7604,   4.9292,\n",
            "           7.7712,   8.3117,  -9.0457],\n",
            "        [ -4.9831, -15.2378,   1.6579,  23.0631,  17.6876, -18.0522,   6.7068,\n",
            "           5.8000,   3.5002,  -5.8114],\n",
            "        [ -8.2787,  -7.0115,  -5.7433,  17.4289,   9.7480, -15.9088,   2.0623,\n",
            "           6.9530,   6.0320,  -4.2766],\n",
            "        [ -5.4141,  -6.8036,  -3.0236,  17.7989,   7.1633, -11.6340,  12.0938,\n",
            "           8.1224,  13.5430,   5.6558],\n",
            "        [ -2.4082,  -1.3862,  -8.6103,  12.1858,   6.8780, -23.1989,  -0.4650,\n",
            "          17.2588,  10.1688,  -6.8493],\n",
            "        [  0.5007, -15.2420, -10.5411,  17.7907,  12.1353, -20.7730,   6.3311,\n",
            "           7.0764,  10.3123,  -7.1427],\n",
            "        [  3.8976, -10.3390,  -9.0420,  11.2776,  13.4326, -17.4692,   8.4361,\n",
            "           8.5214,   4.4978,  -1.4044],\n",
            "        [ -5.1664,  -7.5810,  -4.0899,   9.4002,   2.0070, -14.9378,   2.4445,\n",
            "           3.0481,   7.3825,  -6.4269],\n",
            "        [  9.5604, -10.0648,  -4.7173,  22.1388,  13.3236, -18.7243,  10.0334,\n",
            "          15.3008,   1.9814, -10.8150],\n",
            "        [ -6.6917, -13.5527, -10.4510,  18.2059,  11.9591, -13.6844,   6.1781,\n",
            "          -4.8436,  14.6364,   1.0587],\n",
            "        [  1.4151, -11.8140,  -2.6496,  12.3646,  11.5973, -18.4817,  -9.0395,\n",
            "          14.5607,   5.7603,   1.3932],\n",
            "        [ -6.2563,  -1.8042,  -3.2677,  15.5737,  11.4545, -26.9310,   6.4721,\n",
            "           2.2743,   2.8143,  -4.0567],\n",
            "        [  2.6629, -11.2922,  -2.8704,  21.5363,   7.6614, -14.2344,   3.1728,\n",
            "          -1.8629,  -6.0930, -17.5902],\n",
            "        [ -5.0262, -16.8535,  -4.1506,  24.2837,   5.4146, -14.4303,   5.7121,\n",
            "          20.2312,  -0.4754,  -0.8649],\n",
            "        [ -9.0229,  -1.4335,  -2.3006,  20.9000,   2.2843, -15.8288,  -2.4960,\n",
            "           6.2762,   1.5496,  -9.2955],\n",
            "        [ -3.1376, -14.4559,  -4.0735,  20.7227,   1.0528, -21.6687,   0.3836,\n",
            "           7.9972,   3.8530, -10.1369],\n",
            "        [ -3.2910,  -2.0794,  -5.7416,  21.1077,   5.7363, -14.1146,   4.4928,\n",
            "          16.2437,   5.9134,  -3.2619],\n",
            "        [  0.6772, -10.2588,  -8.7640,  18.6083,   8.0681,  -9.8094,   0.3440,\n",
            "           0.8933,   0.8095,  -7.7177]])\n"
          ],
          "name": "stdout"
        }
      ]
    },
    {
      "metadata": {
        "id": "0AGPorIXx741",
        "colab_type": "text"
      },
      "cell_type": "markdown",
      "source": [
        "Now we have 10 outputs for our network. We want to pass in an image to our network and get out a probability distribution over the classes that tells us the likely class(es) the image belongs to. Something that looks like this:\n",
        "<img src='https://github.com/sid779/Deep_learning_with_pytorch/blob/master/intro-to-pytorch/assets/image_distribution.png?raw=1' width=500px>\n",
        "\n",
        "Here we see that the probability for each class is roughly the same. This is representing an untrained network, it hasn't seen any data yet so it just returns a uniform distribution with equal probabilities for each class.\n",
        "\n",
        "To calculate this probability distribution, we often use the [**softmax** function](https://en.wikipedia.org/wiki/Softmax_function). Mathematically this looks like\n",
        "\n",
        "$$\n",
        "\\Large \\sigma(x_i) = \\cfrac{e^{x_i}}{\\sum_k^K{e^{x_k}}}\n",
        "$$\n",
        "\n",
        "What this does is squish each input $x_i$ between 0 and 1 and normalizes the values to give you a proper probability distribution where the probabilites sum up to one.\n",
        "\n",
        "> **Exercise:** Implement a function `softmax` that performs the softmax calculation and returns probability distributions for each example in the batch. Note that you'll need to pay attention to the shapes when doing this. If you have a tensor `a` with shape `(64, 10)` and a tensor `b` with shape `(64,)`, doing `a/b` will give you an error because PyTorch will try to do the division across the columns (called broadcasting) but you'll get a size mismatch. The way to think about this is for each of the 64 examples, you only want to divide by one value, the sum in the denominator. So you need `b` to have a shape of `(64, 1)`. This way PyTorch will divide the 10 values in each row of `a` by the one value in each row of `b`. Pay attention to how you take the sum as well. You'll need to define the `dim` keyword in `torch.sum`. Setting `dim=0` takes the sum across the rows while `dim=1` takes the sum across the columns."
      ]
    },
    {
      "metadata": {
        "id": "JjE3JkMUx742",
        "colab_type": "code",
        "colab": {
          "base_uri": "https://localhost:8080/",
          "height": 168
        },
        "outputId": "83f6dc97-f52d-4ccf-ba39-c9cb0394c4f5"
      },
      "cell_type": "code",
      "source": [
        "def softmax(x):\n",
        "   return torch.exp(x)/torch.sum(torch.exp(x), dim=1).view(-1, 1)\n",
        "    ## TODO: Implement the softmax function here\n",
        "\n",
        "# Here, out should be the output of the network in the previous excercise with shape (64,10)\n",
        "probabilities = softmax(out)\n",
        "\n",
        "# Does it have the right shape? Should be (64, 10)\n",
        "print(probabilities.shape)\n",
        "# Does it sum to 1?\n",
        "print(probabilities.sum(dim=1))"
      ],
      "execution_count": 39,
      "outputs": [
        {
          "output_type": "stream",
          "text": [
            "torch.Size([64, 10])\n",
            "tensor([1.0000, 1.0000, 1.0000, 1.0000, 1.0000, 1.0000, 1.0000, 1.0000, 1.0000,\n",
            "        1.0000, 1.0000, 1.0000, 1.0000, 1.0000, 1.0000, 1.0000, 1.0000, 1.0000,\n",
            "        1.0000, 1.0000, 1.0000, 1.0000, 1.0000, 1.0000, 1.0000, 1.0000, 1.0000,\n",
            "        1.0000, 1.0000, 1.0000, 1.0000, 1.0000, 1.0000, 1.0000, 1.0000, 1.0000,\n",
            "        1.0000, 1.0000, 1.0000, 1.0000, 1.0000, 1.0000, 1.0000, 1.0000, 1.0000,\n",
            "        1.0000, 1.0000, 1.0000, 1.0000, 1.0000, 1.0000, 1.0000, 1.0000, 1.0000,\n",
            "        1.0000, 1.0000, 1.0000, 1.0000, 1.0000, 1.0000, 1.0000, 1.0000, 1.0000,\n",
            "        1.0000])\n"
          ],
          "name": "stdout"
        }
      ]
    },
    {
      "metadata": {
        "id": "Z4ZWen4xx747",
        "colab_type": "text"
      },
      "cell_type": "markdown",
      "source": [
        "## Building networks with PyTorch\n",
        "\n",
        "PyTorch provides a module `nn` that makes building networks much simpler. Here I'll show you how to build the same one as above with 784 inputs, 256 hidden units, 10 output units and a softmax output."
      ]
    },
    {
      "metadata": {
        "id": "pgRdEDi3x74-",
        "colab_type": "code",
        "colab": {}
      },
      "cell_type": "code",
      "source": [
        "from torch import nn"
      ],
      "execution_count": 0,
      "outputs": []
    },
    {
      "metadata": {
        "id": "iqmBJXwIx75C",
        "colab_type": "code",
        "colab": {}
      },
      "cell_type": "code",
      "source": [
        "class Network(nn.Module):\n",
        "    def __init__(self):\n",
        "        super().__init__()\n",
        "        \n",
        "        # Inputs to hidden layer linear transformation\n",
        "        self.hidden = nn.Linear(784, 256)\n",
        "        # Output layer, 10 units - one for each digit\n",
        "        self.output = nn.Linear(256, 10)\n",
        "        \n",
        "        # Define sigmoid activation and softmax output \n",
        "        self.sigmoid = nn.Sigmoid()\n",
        "        self.softmax = nn.Softmax(dim=1)\n",
        "        \n",
        "    def forward(self, x):\n",
        "        # Pass the input tensor through each of our operations\n",
        "        x = self.hidden(x)\n",
        "        x = self.sigmoid(x)\n",
        "        x = self.output(x)\n",
        "        x = self.softmax(x)\n",
        "        \n",
        "        return x"
      ],
      "execution_count": 0,
      "outputs": []
    },
    {
      "metadata": {
        "id": "d2tilna8x75E",
        "colab_type": "text"
      },
      "cell_type": "markdown",
      "source": [
        "Let's go through this bit by bit.\n",
        "\n",
        "```python\n",
        "class Network(nn.Module):\n",
        "```\n",
        "\n",
        "Here we're inheriting from `nn.Module`. Combined with `super().__init__()` this creates a class that tracks the architecture and provides a lot of useful methods and attributes. It is mandatory to inherit from `nn.Module` when you're creating a class for your network. The name of the class itself can be anything.\n",
        "\n",
        "```python\n",
        "self.hidden = nn.Linear(784, 256)\n",
        "```\n",
        "\n",
        "This line creates a module for a linear transformation, $x\\mathbf{W} + b$, with 784 inputs and 256 outputs and assigns it to `self.hidden`. The module automatically creates the weight and bias tensors which we'll use in the `forward` method. You can access the weight and bias tensors once the network (`net`) is created with `net.hidden.weight` and `net.hidden.bias`.\n",
        "\n",
        "```python\n",
        "self.output = nn.Linear(256, 10)\n",
        "```\n",
        "\n",
        "Similarly, this creates another linear transformation with 256 inputs and 10 outputs.\n",
        "\n",
        "```python\n",
        "self.sigmoid = nn.Sigmoid()\n",
        "self.softmax = nn.Softmax(dim=1)\n",
        "```\n",
        "\n",
        "Here I defined operations for the sigmoid activation and softmax output. Setting `dim=1` in `nn.Softmax(dim=1)` calculates softmax across the columns.\n",
        "\n",
        "```python\n",
        "def forward(self, x):\n",
        "```\n",
        "\n",
        "PyTorch networks created with `nn.Module` must have a `forward` method defined. It takes in a tensor `x` and passes it through the operations you defined in the `__init__` method.\n",
        "\n",
        "```python\n",
        "x = self.hidden(x)\n",
        "x = self.sigmoid(x)\n",
        "x = self.output(x)\n",
        "x = self.softmax(x)\n",
        "```\n",
        "\n",
        "Here the input tensor `x` is passed through each operation a reassigned to `x`. We can see that the input tensor goes through the hidden layer, then a sigmoid function, then the output layer, and finally the softmax function. It doesn't matter what you name the variables here, as long as the inputs and outputs of the operations match the network architecture you want to build. The order in which you define things in the `__init__` method doesn't matter, but you'll need to sequence the operations correctly in the `forward` method.\n",
        "\n",
        "Now we can create a `Network` object."
      ]
    },
    {
      "metadata": {
        "id": "kdfjgCUKx75F",
        "colab_type": "code",
        "colab": {
          "base_uri": "https://localhost:8080/",
          "height": 118
        },
        "outputId": "b8e683de-a79e-40f7-e70a-7203f0d0836f"
      },
      "cell_type": "code",
      "source": [
        "# Create the network and look at it's text representation\n",
        "model = Network()\n",
        "model"
      ],
      "execution_count": 42,
      "outputs": [
        {
          "output_type": "execute_result",
          "data": {
            "text/plain": [
              "Network(\n",
              "  (hidden): Linear(in_features=784, out_features=256, bias=True)\n",
              "  (output): Linear(in_features=256, out_features=10, bias=True)\n",
              "  (sigmoid): Sigmoid()\n",
              "  (softmax): Softmax()\n",
              ")"
            ]
          },
          "metadata": {
            "tags": []
          },
          "execution_count": 42
        }
      ]
    },
    {
      "metadata": {
        "id": "eUOC_S7Hx75I",
        "colab_type": "text"
      },
      "cell_type": "markdown",
      "source": [
        "You can define the network somewhat more concisely and clearly using the `torch.nn.functional` module. This is the most common way you'll see networks defined as many operations are simple element-wise functions. We normally import this module as `F`, `import torch.nn.functional as F`."
      ]
    },
    {
      "metadata": {
        "id": "NEYjNZIVx75J",
        "colab_type": "code",
        "colab": {}
      },
      "cell_type": "code",
      "source": [
        "import torch.nn.functional as F\n",
        "\n",
        "class Network(nn.Module):\n",
        "    def __init__(self):\n",
        "        super().__init__()\n",
        "        # Inputs to hidden layer linear transformation\n",
        "        self.hidden = nn.Linear(784, 256)\n",
        "        # Output layer, 10 units - one for each digit\n",
        "        self.output = nn.Linear(256, 10)\n",
        "        \n",
        "    def forward(self, x):\n",
        "        # Hidden layer with sigmoid activation\n",
        "        x = F.sigmoid(self.hidden(x))\n",
        "        # Output layer with softmax activation\n",
        "        x = F.softmax(self.output(x), dim=1)\n",
        "        \n",
        "        return x"
      ],
      "execution_count": 0,
      "outputs": []
    },
    {
      "metadata": {
        "id": "JdqnWJZqx75L",
        "colab_type": "text"
      },
      "cell_type": "markdown",
      "source": [
        "### Activation functions\n",
        "\n",
        "So far we've only been looking at the softmax activation, but in general any function can be used as an activation function. The only requirement is that for a network to approximate a non-linear function, the activation functions must be non-linear. Here are a few more examples of common activation functions: Tanh (hyperbolic tangent), and ReLU (rectified linear unit).\n",
        "\n",
        "<img src=\"https://github.com/sid779/Deep_learning_with_pytorch/blob/master/intro-to-pytorch/assets/activation.png?raw=1\" width=700px>\n",
        "\n",
        "In practice, the ReLU function is used almost exclusively as the activation function for hidden layers."
      ]
    },
    {
      "metadata": {
        "id": "_ra0yYOUx75M",
        "colab_type": "text"
      },
      "cell_type": "markdown",
      "source": [
        "### Your Turn to Build a Network\n",
        "\n",
        "<img src=\"https://github.com/sid779/Deep_learning_with_pytorch/blob/master/intro-to-pytorch/assets/mlp_mnist.png?raw=1\" width=600px>\n",
        "\n",
        "> **Exercise:** Create a network with 784 input units, a hidden layer with 128 units and a ReLU activation, then a hidden layer with 64 units and a ReLU activation, and finally an output layer with a softmax activation as shown above. You can use a ReLU activation with the `nn.ReLU` module or `F.relu` function."
      ]
    },
    {
      "metadata": {
        "scrolled": true,
        "id": "CYbQ9FSWx75O",
        "colab_type": "code",
        "colab": {
          "base_uri": "https://localhost:8080/",
          "height": 101
        },
        "outputId": "dab35639-5c57-4533-97a3-c76b80f54db9"
      },
      "cell_type": "code",
      "source": [
        "## Your solution here\n",
        "import torch.nn.functional as F\n",
        "\n",
        "class Network(nn.Module):\n",
        "    def __init__(self):\n",
        "        super().__init__()\n",
        "        # Inputs to hidden layer linear transformation\n",
        "        self.fc1 = nn.Linear(784, 128)\n",
        "        # Inputs to hidden layer linear transformation\n",
        "        self.fc2 = nn.Linear(128, 64)\n",
        "        # Output layer, 10 units - one for each digit\n",
        "        self.fc3 = nn.Linear(64, 10)\n",
        "        \n",
        "    def forward(self, x):\n",
        "        # Hidden layer 1 with relu activation\n",
        "        x = F.relu(self.fc1(x))\n",
        "        # Hidden layer 2 with relu activation\n",
        "        x = F.relu(self.fc2(x))\n",
        "        # Output layer with relu activation\n",
        "        x = F.softmax(self.fc3(x), dim=1)\n",
        "        \n",
        "        return x\n",
        "\n",
        "model = Network()\n",
        "model\n",
        "   \n",
        "  "
      ],
      "execution_count": 55,
      "outputs": [
        {
          "output_type": "execute_result",
          "data": {
            "text/plain": [
              "Network(\n",
              "  (fc1): Linear(in_features=784, out_features=128, bias=True)\n",
              "  (fc2): Linear(in_features=128, out_features=64, bias=True)\n",
              "  (fc3): Linear(in_features=64, out_features=10, bias=True)\n",
              ")"
            ]
          },
          "metadata": {
            "tags": []
          },
          "execution_count": 55
        }
      ]
    },
    {
      "metadata": {
        "id": "4JmoVQHgx75R",
        "colab_type": "text"
      },
      "cell_type": "markdown",
      "source": [
        "### Initializing weights and biases\n",
        "\n",
        "The weights and such are automatically initialized for you, but it's possible to customize how they are initialized. The weights and biases are tensors attached to the layer you defined, you can get them with `model.fc1.weight` for instance."
      ]
    },
    {
      "metadata": {
        "id": "sDmkcRyDx75S",
        "colab_type": "code",
        "colab": {
          "base_uri": "https://localhost:8080/",
          "height": 470
        },
        "outputId": "75bbb229-80ac-440e-a284-b5ff59921d13"
      },
      "cell_type": "code",
      "source": [
        "print(model.fc1.weight)\n",
        "print(model.fc1.bias)"
      ],
      "execution_count": 56,
      "outputs": [
        {
          "output_type": "stream",
          "text": [
            "Parameter containing:\n",
            "tensor([[-0.0296, -0.0215,  0.0269,  ..., -0.0225, -0.0222,  0.0144],\n",
            "        [-0.0102, -0.0057, -0.0236,  ...,  0.0339,  0.0205, -0.0294],\n",
            "        [-0.0104, -0.0004,  0.0163,  ...,  0.0186, -0.0198,  0.0230],\n",
            "        ...,\n",
            "        [ 0.0220,  0.0166, -0.0093,  ..., -0.0282, -0.0290, -0.0286],\n",
            "        [-0.0177,  0.0220, -0.0170,  ..., -0.0051,  0.0284, -0.0313],\n",
            "        [ 0.0167, -0.0007, -0.0023,  ..., -0.0108, -0.0131, -0.0328]],\n",
            "       requires_grad=True)\n",
            "Parameter containing:\n",
            "tensor([-0.0229,  0.0303,  0.0080, -0.0308, -0.0236, -0.0090,  0.0154,  0.0276,\n",
            "         0.0197,  0.0003,  0.0075, -0.0325, -0.0251,  0.0163,  0.0201,  0.0342,\n",
            "        -0.0108,  0.0208, -0.0261,  0.0016, -0.0128, -0.0081,  0.0134,  0.0242,\n",
            "        -0.0112, -0.0038, -0.0234, -0.0235, -0.0229,  0.0138,  0.0095,  0.0306,\n",
            "         0.0319,  0.0003, -0.0063, -0.0275,  0.0222, -0.0289, -0.0155,  0.0189,\n",
            "        -0.0217,  0.0136, -0.0220, -0.0258, -0.0180, -0.0060,  0.0221,  0.0309,\n",
            "        -0.0023,  0.0172,  0.0081, -0.0234, -0.0176, -0.0071, -0.0355, -0.0137,\n",
            "        -0.0273,  0.0029,  0.0229,  0.0328,  0.0243,  0.0001, -0.0225,  0.0319,\n",
            "        -0.0232, -0.0236,  0.0049, -0.0251,  0.0255, -0.0045, -0.0153, -0.0102,\n",
            "        -0.0210,  0.0071,  0.0013,  0.0030,  0.0201, -0.0279, -0.0111,  0.0187,\n",
            "        -0.0203, -0.0084, -0.0057,  0.0308,  0.0158,  0.0175, -0.0096,  0.0267,\n",
            "        -0.0200, -0.0304, -0.0282,  0.0337, -0.0027, -0.0151,  0.0343, -0.0257,\n",
            "        -0.0336,  0.0202,  0.0069, -0.0302, -0.0148,  0.0284, -0.0021, -0.0183,\n",
            "        -0.0112,  0.0171, -0.0164, -0.0165, -0.0129, -0.0297,  0.0203, -0.0065,\n",
            "         0.0140,  0.0221, -0.0242,  0.0183,  0.0295,  0.0074, -0.0158,  0.0337,\n",
            "        -0.0268,  0.0123,  0.0118, -0.0225, -0.0033, -0.0010,  0.0036,  0.0249],\n",
            "       requires_grad=True)\n"
          ],
          "name": "stdout"
        }
      ]
    },
    {
      "metadata": {
        "id": "HUIQlNptx75V",
        "colab_type": "text"
      },
      "cell_type": "markdown",
      "source": [
        "For custom initialization, we want to modify these tensors in place. These are actually autograd *Variables*, so we need to get back the actual tensors with `model.fc1.weight.data`. Once we have the tensors, we can fill them with zeros (for biases) or random normal values."
      ]
    },
    {
      "metadata": {
        "id": "cHm9Ys20x75V",
        "colab_type": "code",
        "colab": {
          "base_uri": "https://localhost:8080/",
          "height": 151
        },
        "outputId": "4cc6292a-d717-459b-d69d-25eb0be3ca32"
      },
      "cell_type": "code",
      "source": [
        "# Set biases to all zeros\n",
        "model.fc1.bias.data.fill_(0)"
      ],
      "execution_count": 57,
      "outputs": [
        {
          "output_type": "execute_result",
          "data": {
            "text/plain": [
              "tensor([0., 0., 0., 0., 0., 0., 0., 0., 0., 0., 0., 0., 0., 0., 0., 0., 0., 0.,\n",
              "        0., 0., 0., 0., 0., 0., 0., 0., 0., 0., 0., 0., 0., 0., 0., 0., 0., 0.,\n",
              "        0., 0., 0., 0., 0., 0., 0., 0., 0., 0., 0., 0., 0., 0., 0., 0., 0., 0.,\n",
              "        0., 0., 0., 0., 0., 0., 0., 0., 0., 0., 0., 0., 0., 0., 0., 0., 0., 0.,\n",
              "        0., 0., 0., 0., 0., 0., 0., 0., 0., 0., 0., 0., 0., 0., 0., 0., 0., 0.,\n",
              "        0., 0., 0., 0., 0., 0., 0., 0., 0., 0., 0., 0., 0., 0., 0., 0., 0., 0.,\n",
              "        0., 0., 0., 0., 0., 0., 0., 0., 0., 0., 0., 0., 0., 0., 0., 0., 0., 0.,\n",
              "        0., 0.])"
            ]
          },
          "metadata": {
            "tags": []
          },
          "execution_count": 57
        }
      ]
    },
    {
      "metadata": {
        "id": "v0uXlcxfx75b",
        "colab_type": "code",
        "colab": {
          "base_uri": "https://localhost:8080/",
          "height": 134
        },
        "outputId": "a7b91fee-3d3b-4948-f250-3acb32f32553"
      },
      "cell_type": "code",
      "source": [
        "# sample from random normal with standard dev = 0.01\n",
        "model.fc1.weight.data.normal_(std=0.01)"
      ],
      "execution_count": 58,
      "outputs": [
        {
          "output_type": "execute_result",
          "data": {
            "text/plain": [
              "tensor([[ 0.0099, -0.0084, -0.0095,  ...,  0.0073,  0.0029,  0.0022],\n",
              "        [-0.0192, -0.0008, -0.0081,  ...,  0.0062,  0.0068,  0.0016],\n",
              "        [ 0.0102,  0.0007,  0.0077,  ...,  0.0182, -0.0160, -0.0170],\n",
              "        ...,\n",
              "        [ 0.0109,  0.0180,  0.0064,  ...,  0.0077, -0.0108,  0.0008],\n",
              "        [ 0.0216,  0.0017,  0.0035,  ...,  0.0146, -0.0102,  0.0089],\n",
              "        [-0.0039, -0.0010, -0.0042,  ..., -0.0133, -0.0018, -0.0007]])"
            ]
          },
          "metadata": {
            "tags": []
          },
          "execution_count": 58
        }
      ]
    },
    {
      "metadata": {
        "id": "oMlSG6Qcx75i",
        "colab_type": "text"
      },
      "cell_type": "markdown",
      "source": [
        "### Forward pass\n",
        "\n",
        "Now that we have a network, let's see what happens when we pass in an image."
      ]
    },
    {
      "metadata": {
        "id": "lyKMLtqQx75k",
        "colab_type": "code",
        "colab": {
          "base_uri": "https://localhost:8080/",
          "height": 244
        },
        "outputId": "b9ce2f58-ee51-406b-821c-54d9c1019173"
      },
      "cell_type": "code",
      "source": [
        "# Grab some data \n",
        "dataiter = iter(trainloader)\n",
        "images, labels = dataiter.next()\n",
        "\n",
        "# Resize images into a 1D vector, new shape is (batch size, color channels, image pixels) \n",
        "images.resize_(64, 1, 784)\n",
        "# or images.resize_(images.shape[0], 1, 784) to automatically get batch size\n",
        "\n",
        "# Forward pass through the network\n",
        "img_idx = 0\n",
        "ps = model.forward(images[img_idx,:])\n",
        "\n",
        "img = images[img_idx]\n",
        "helper.view_classify(img.view(1, 28, 28), ps)"
      ],
      "execution_count": 59,
      "outputs": [
        {
          "output_type": "display_data",
          "data": {
            "image/png": "[encoded data removed]",
            "text/plain": [
              "<matplotlib.figure.Figure at 0x7f0aeb06def0>"
            ]
          },
          "metadata": {
            "tags": [],
            "image/png": {
              "width": 424,
              "height": 227
            }
          }
        }
      ]
    },
    {
      "metadata": {
        "id": "jaZPXFXQx75n",
        "colab_type": "text"
      },
      "cell_type": "markdown",
      "source": [
        "As you can see above, our network has basically no idea what this digit is. It's because we haven't trained it yet, all the weights are random!\n",
        "\n",
        "### Using `nn.Sequential`\n",
        "\n",
        "PyTorch provides a convenient way to build networks like this where a tensor is passed sequentially through operations, `nn.Sequential` ([documentation](https://pytorch.org/docs/master/nn.html#torch.nn.Sequential)). Using this to build the equivalent network:"
      ]
    },
    {
      "metadata": {
        "id": "o2_fZCrSx75n",
        "colab_type": "code",
        "colab": {
          "base_uri": "https://localhost:8080/",
          "height": 378
        },
        "outputId": "b64edb21-5f44-42eb-94b0-96e6c6f9427b"
      },
      "cell_type": "code",
      "source": [
        "# Hyperparameters for our network\n",
        "input_size = 784\n",
        "hidden_sizes = [128, 64]\n",
        "output_size = 10\n",
        "\n",
        "# Build a feed-forward network\n",
        "model = nn.Sequential(nn.Linear(input_size, hidden_sizes[0]),\n",
        "                      nn.ReLU(),\n",
        "                      nn.Linear(hidden_sizes[0], hidden_sizes[1]),\n",
        "                      nn.ReLU(),\n",
        "                      nn.Linear(hidden_sizes[1], output_size),\n",
        "                      nn.Softmax(dim=1))\n",
        "print(model)\n",
        "\n",
        "# Forward pass through the network and display output\n",
        "images, labels = next(iter(trainloader))\n",
        "images.resize_(images.shape[0], 1, 784)\n",
        "ps = model.forward(images[0,:])\n",
        "helper.view_classify(images[0].view(1, 28, 28), ps)"
      ],
      "execution_count": 60,
      "outputs": [
        {
          "output_type": "stream",
          "text": [
            "Sequential(\n",
            "  (0): Linear(in_features=784, out_features=128, bias=True)\n",
            "  (1): ReLU()\n",
            "  (2): Linear(in_features=128, out_features=64, bias=True)\n",
            "  (3): ReLU()\n",
            "  (4): Linear(in_features=64, out_features=10, bias=True)\n",
            "  (5): Softmax()\n",
            ")\n"
          ],
          "name": "stdout"
        },
        {
          "output_type": "display_data",
          "data": {
            "image/png": "[encoded data removed]",
            "text/plain": [
              "<matplotlib.figure.Figure at 0x7f0aedb50400>"
            ]
          },
          "metadata": {
            "tags": [],
            "image/png": {
              "width": 424,
              "height": 227
            }
          }
        }
      ]
    },
    {
      "metadata": {
        "id": "Oi7mlIWcx75q",
        "colab_type": "text"
      },
      "cell_type": "markdown",
      "source": [
        "Here our model is the same as before: 784 input units, a hidden layer with 128 units, ReLU activation, 64 unit hidden layer, another ReLU, then the output layer with 10 units, and the softmax output.\n",
        "\n",
        "The operations are availble by passing in the appropriate index. For example, if you want to get first Linear operation and look at the weights, you'd use `model[0]`."
      ]
    },
    {
      "metadata": {
        "id": "ahb1-YZwx75r",
        "colab_type": "code",
        "colab": {
          "base_uri": "https://localhost:8080/",
          "height": 185
        },
        "outputId": "97cbde78-2851-437a-cc43-c82f0bcd39b0"
      },
      "cell_type": "code",
      "source": [
        "print(model[0])\n",
        "model[0].weight"
      ],
      "execution_count": 61,
      "outputs": [
        {
          "output_type": "stream",
          "text": [
            "Linear(in_features=784, out_features=128, bias=True)\n"
          ],
          "name": "stdout"
        },
        {
          "output_type": "execute_result",
          "data": {
            "text/plain": [
              "Parameter containing:\n",
              "tensor([[ 0.0014,  0.0324, -0.0296,  ..., -0.0318,  0.0251, -0.0310],\n",
              "        [ 0.0205,  0.0128,  0.0168,  ...,  0.0073,  0.0313, -0.0290],\n",
              "        [-0.0178,  0.0215,  0.0250,  ..., -0.0120,  0.0264, -0.0060],\n",
              "        ...,\n",
              "        [-0.0089, -0.0075, -0.0115,  ...,  0.0299, -0.0038, -0.0189],\n",
              "        [-0.0004,  0.0226, -0.0261,  ...,  0.0293,  0.0211,  0.0326],\n",
              "        [ 0.0101,  0.0354,  0.0100,  ..., -0.0144, -0.0158,  0.0270]],\n",
              "       requires_grad=True)"
            ]
          },
          "metadata": {
            "tags": []
          },
          "execution_count": 61
        }
      ]
    },
    {
      "metadata": {
        "id": "d4X1uvJQx75u",
        "colab_type": "text"
      },
      "cell_type": "markdown",
      "source": [
        "You can also pass in an `OrderedDict` to name the individual layers and operations, instead of using incremental integers. Note that dictionary keys must be unique, so _each operation must have a different name_."
      ]
    },
    {
      "metadata": {
        "id": "p4NId7B6x75x",
        "colab_type": "code",
        "colab": {
          "base_uri": "https://localhost:8080/",
          "height": 151
        },
        "outputId": "74e1ad0c-f672-49f1-c12d-3b6d2263b127"
      },
      "cell_type": "code",
      "source": [
        "from collections import OrderedDict\n",
        "model = nn.Sequential(OrderedDict([\n",
        "                      ('fc1', nn.Linear(input_size, hidden_sizes[0])),\n",
        "                      ('relu1', nn.ReLU()),\n",
        "                      ('fc2', nn.Linear(hidden_sizes[0], hidden_sizes[1])),\n",
        "                      ('relu2', nn.ReLU()),\n",
        "                      ('output', nn.Linear(hidden_sizes[1], output_size)),\n",
        "                      ('softmax', nn.Softmax(dim=1))]))\n",
        "model"
      ],
      "execution_count": 62,
      "outputs": [
        {
          "output_type": "execute_result",
          "data": {
            "text/plain": [
              "Sequential(\n",
              "  (fc1): Linear(in_features=784, out_features=128, bias=True)\n",
              "  (relu1): ReLU()\n",
              "  (fc2): Linear(in_features=128, out_features=64, bias=True)\n",
              "  (relu2): ReLU()\n",
              "  (output): Linear(in_features=64, out_features=10, bias=True)\n",
              "  (softmax): Softmax()\n",
              ")"
            ]
          },
          "metadata": {
            "tags": []
          },
          "execution_count": 62
        }
      ]
    },
    {
      "metadata": {
        "id": "_303LaL1x75z",
        "colab_type": "text"
      },
      "cell_type": "markdown",
      "source": [
        "Now you can access layers either by integer or the name"
      ]
    },
    {
      "metadata": {
        "id": "Vaa45pU-x750",
        "colab_type": "code",
        "colab": {
          "base_uri": "https://localhost:8080/",
          "height": 50
        },
        "outputId": "bd289c92-7f60-48cc-9fc8-9f0e034e3224"
      },
      "cell_type": "code",
      "source": [
        "print(model[0])\n",
        "print(model.fc1)"
      ],
      "execution_count": 63,
      "outputs": [
        {
          "output_type": "stream",
          "text": [
            "Linear(in_features=784, out_features=128, bias=True)\n",
            "Linear(in_features=784, out_features=128, bias=True)\n"
          ],
          "name": "stdout"
        }
      ]
    },
    {
      "metadata": {
        "id": "l4KHbuBAx753",
        "colab_type": "text"
      },
      "cell_type": "markdown",
      "source": [
        "In the next notebook, we'll see how we can train a neural network to accuractly predict the numbers appearing in the MNIST images."
      ]
    }
  ]
}